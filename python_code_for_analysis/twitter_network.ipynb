{
 "cells": [
  {
   "cell_type": "code",
   "execution_count": 1,
   "metadata": {
    "cell_id": "44fffc04-6585-4b8c-b5a8-53bec5bcbd6c",
    "deepnote_cell_height": 441,
    "deepnote_cell_type": "code",
    "deepnote_to_be_reexecuted": false,
    "execution_millis": 587,
    "execution_start": 1650975500213,
    "source_hash": "e7dcafae",
    "tags": []
   },
   "outputs": [],
   "source": [
    "import pandas as pd\n",
    "import numpy as np\n",
    "import datetime as dt\n",
    "import random\n",
    "import matplotlib.cm as cm\n",
    "import matplotlib as mpl\n",
    "import matplotlib.pyplot as plt\n",
    "\n",
    "import networkx as nx\n",
    "import netwulf as nw\n",
    "from netwulf import visualize\n",
    "from pyvis.network import Network\n",
    "import community.community_louvain\n",
    "\n",
    "\n",
    "import pandas as pd\n",
    "import numpy as np\n",
    "import datetime as dt\n",
    "import math\n",
    "import pickle \n",
    "import ast\n",
    "from itertools import combinations"
   ]
  },
  {
   "cell_type": "code",
   "execution_count": 3,
   "metadata": {},
   "outputs": [
    {
     "name": "stderr",
     "output_type": "stream",
     "text": [
      "/Library/Frameworks/Python.framework/Versions/3.8/lib/python3.8/site-packages/IPython/core/interactiveshell.py:3155: DtypeWarning: Columns (2,5) have mixed types.Specify dtype option on import or set low_memory=False.\n",
      "  has_raised = await self.run_ast_nodes(code_ast.body, cell_name,\n"
     ]
    }
   ],
   "source": [
    "all_tweets = pd.read_csv(\"ALL_CLEAN_TWEETS.csv\")\n",
    "all_tweets = all_tweets.iloc[: , 3:]\n",
    "all_tweets.translated_hashtags = all_tweets.translated_hashtags.apply(ast.literal_eval)\n",
    "all_tweets.tokenized_text_stemmed = all_tweets.tokenized_text_stemmed.apply(ast.literal_eval)\n",
    "all_tweets.tokenized_text = all_tweets.tokenized_text.apply(ast.literal_eval)"
   ]
  },
  {
   "cell_type": "markdown",
   "metadata": {},
   "source": [
    "## 1) Creating Twitter Graphs based on Language"
   ]
  },
  {
   "cell_type": "code",
   "execution_count": 38,
   "metadata": {},
   "outputs": [],
   "source": [
    "#creating an undirected graph from a weighted edgelist based on user \n",
    "# and parent author and their original language.\n",
    "\n",
    "def create_nx_graph(language,w_edgelist):\n",
    "    G = nx.DiGraph()\n",
    "    for index, value in w_edgelist.items():\n",
    "        G.add_weighted_edges_from([(index[0],index[1],value)]) \n",
    "    H = G.to_undirected(reciprocal=False)\n",
    "    H.remove_edges_from(list(nx.selfloop_edges(H)))\n",
    "    H.remove_nodes_from(list(nx.isolates(H)))\n",
    "    return G,H"
   ]
  },
  {
   "cell_type": "code",
   "execution_count": 27,
   "metadata": {},
   "outputs": [],
   "source": [
    "def create_nx_undigraph(language,w_edgelist):\n",
    "    G = nx.DiGraph()\n",
    "    for index, value in w_edgelist.items():\n",
    "        G.add_weighted_edges_from([(index[0],index[1],value)]) \n",
    "    H = G.to_undirected(reciprocal=False)\n",
    "    H.remove_edges_from(list(nx.selfloop_edges(H)))\n",
    "    H.remove_nodes_from(list(nx.isolates(H)))\n",
    "    \n",
    "    return H"
   ]
  },
  {
   "cell_type": "code",
   "execution_count": 4,
   "metadata": {},
   "outputs": [],
   "source": [
    "def create_w_edgelist(df, language):\n",
    "    w_edgelist = df.loc[df[\"language\"]==language].groupby([\"username\", \"parent_author\"]).size()\n",
    "    return w_edgelist "
   ]
  },
  {
   "cell_type": "code",
   "execution_count": 39,
   "metadata": {},
   "outputs": [],
   "source": [
    "#creating network graphs based on the ukrainian and russian discourse:\n",
    "\n",
    "\n",
    "w_edgelist_uk = create_w_edgelist(all_tweets, \"uk\")\n",
    "G_uk, H_uk = create_nx_graph(\"uk\", w_edgelist_uk)\n",
    "\n",
    "w_edgelist_ru = create_w_edgelist(all_tweets,\"ru\")\n",
    "G_ru, H_ru = create_nx_graph(\"ru\", w_edgelist_ru)\n",
    "\n",
    "\n"
   ]
  },
  {
   "cell_type": "code",
   "execution_count": null,
   "metadata": {},
   "outputs": [],
   "source": [
    "\n",
    "print(nx.info(H_uk),\"\\n\")\n",
    "\n",
    "print(nx.info(H_ru),\"\\n\")\n"
   ]
  },
  {
   "cell_type": "markdown",
   "metadata": {},
   "source": [
    "## 2) Random networks as Null Models\n",
    "Now we will create Random Networks as null models to investigate some properties of the three Twitter Networks.\n",
    "\n",
    "We will create random networks based on the **R(N, p)** model introduced by Edgar Nelson Gilbert: Each pair of *N* labeled nodes is connected with probability *p*. Computing N and p from the network we are investigating is done by the following:\n",
    "\n",
    "The formula for the for the expected number of edges in the random network is:\n",
    "$$\n",
    "\\langle L\\rangle=\\sum_{L=0}^{\\frac{N(N-1)}{2}} L p_{L}=p \\frac{N(N-1)}{2}\n",
    "$$\n",
    "\n",
    "Setting $\\langle L\\rangle$ equal to the actual number of edges in the redditor network, the probabily p can be found by:\n",
    "$$\n",
    "p = \\frac{\\langle L\\rangle}{\\frac{N(N-1)}{2}}\n",
    "$$\n",
    "\n",
    "Next, the average value of degree is computed by:\n",
    "$$\n",
    "\\langle k \\rangle = \\frac{2L}{N} = p (N-1)\n",
    "$$\n",
    "\n"
   ]
  },
  {
   "cell_type": "code",
   "execution_count": 7,
   "metadata": {},
   "outputs": [],
   "source": [
    "def create_random_network(H):\n",
    "    L_edges = len(H.edges())\n",
    "    N_nodes = len(H.nodes())\n",
    "    p = L_edges/(N_nodes * (N_nodes-1)/2)\n",
    "    \n",
    "    R = nx.Graph()\n",
    "    all_edge_combinations = list(combinations(range(N_nodes), 2))\n",
    "    \n",
    "    for edge in all_edge_combinations:\n",
    "        if random.random() < p:\n",
    "            R.add_edge(*edge)\n",
    "    return R\n",
    "    "
   ]
  },
  {
   "cell_type": "code",
   "execution_count": 41,
   "metadata": {},
   "outputs": [],
   "source": [
    "R_uk = create_random_network(H_uk)\n",
    "R_ru = create_random_network(H_ru)"
   ]
  },
  {
   "cell_type": "code",
   "execution_count": 42,
   "metadata": {},
   "outputs": [
    {
     "name": "stdout",
     "output_type": "stream",
     "text": [
      "Name: \n",
      "Type: Graph\n",
      "Number of nodes: 3348\n",
      "Number of edges: 2930\n",
      "Average degree:   1.7503 \n",
      "\n",
      "Name: \n",
      "Type: Graph\n",
      "Number of nodes: 2793\n",
      "Number of edges: 3020\n",
      "Average degree:   2.1625\n"
     ]
    }
   ],
   "source": [
    "print(nx.info(H_uk),\"\\n\")\n",
    "print(nx.info(R_uk))"
   ]
  },
  {
   "cell_type": "code",
   "execution_count": 43,
   "metadata": {},
   "outputs": [
    {
     "name": "stdout",
     "output_type": "stream",
     "text": [
      "Name: \n",
      "Type: Graph\n",
      "Number of nodes: 8544\n",
      "Number of edges: 8132\n",
      "Average degree:   1.9036 \n",
      "\n",
      "Name: \n",
      "Type: Graph\n",
      "Number of nodes: 7274\n",
      "Number of edges: 8135\n",
      "Average degree:   2.2367\n"
     ]
    }
   ],
   "source": [
    "print(nx.info(H_ru),\"\\n\")\n",
    "print(nx.info(R_ru))"
   ]
  },
  {
   "cell_type": "code",
   "execution_count": 21,
   "metadata": {},
   "outputs": [
    {
     "name": "stdout",
     "output_type": "stream",
     "text": [
      "ng_ukraine\n",
      "in degree: 128 \n",
      "\n",
      "mil_in_ua\n",
      "in degree: 125 \n",
      "\n",
      "UKRINFORM\n",
      "in degree: 54 \n",
      "\n",
      "USEmbassyKyiv\n",
      "in degree: 53 \n",
      "\n",
      "Pontifex\n",
      "in degree: 47 \n",
      "\n"
     ]
    }
   ],
   "source": [
    "top5_in_uk = sorted(G_uk.in_degree, key=lambda x: x[1], reverse=True)[:5]\n",
    "for author, val in top5_in_uk:\n",
    "    print(author)\n",
    "    print(\"in degree:\", val, \n",
    "          \"\\n\")"
   ]
  },
  {
   "cell_type": "code",
   "execution_count": 23,
   "metadata": {},
   "outputs": [
    {
     "name": "stdout",
     "output_type": "stream",
     "text": [
      "dw_russian\n",
      "in degree: 186 \n",
      "\n",
      "RT_russian\n",
      "in degree: 101 \n",
      "\n",
      "i_army_org\n",
      "in degree: 92 \n",
      "\n",
      "rianru\n",
      "in degree: 90 \n",
      "\n",
      "antiputler_news\n",
      "in degree: 88 \n",
      "\n"
     ]
    }
   ],
   "source": [
    "top5_in_ru = sorted(G_ru.in_degree, key=lambda x: x[1], reverse=True)[:5]\n",
    "for author, val in top5_in_ru:\n",
    "    print(author)\n",
    "    print(\"in degree:\", val, \n",
    "          \"\\n\")"
   ]
  },
  {
   "cell_type": "markdown",
   "metadata": {},
   "source": [
    "### 2.1) Clustering: Compare the clustering coefficient in the Networks and their random counterpart"
   ]
  },
  {
   "cell_type": "code",
   "execution_count": 13,
   "metadata": {},
   "outputs": [],
   "source": [
    "#computing the clustering coefficient for each node in the random network:\n",
    "\n",
    "def compute_cluster_coeff(G):\n",
    "    cluster_coefs = []\n",
    "\n",
    "    for node in list(G.nodes()):\n",
    "        if len(list(G.neighbors(node))) == 1:      #clustering coefficient is 0 if the node only has one neighbor\n",
    "            cluster_coefs.append(0)\n",
    "        else: \n",
    "            L_i = 0\n",
    "            neighbors = list(combinations(list(G.neighbors(node)), 2))\n",
    "            for pair in neighbors:\n",
    "                if G.has_edge(*pair):\n",
    "                    L_i+=1\n",
    "\n",
    "            k_i = G.degree(node)\n",
    "            cluster_coefs.append(2*L_i/(k_i*(k_i-1)+1e-5)) #add small number to avoid division by zero\n",
    "    return np.mean(cluster_coefs)"
   ]
  },
  {
   "cell_type": "code",
   "execution_count": 56,
   "metadata": {},
   "outputs": [],
   "source": [
    "H_uk_cc = compute_cluster_coeff(H_uk)\n",
    "R_uk_cc = compute_cluster_coeff(R_uk)"
   ]
  },
  {
   "cell_type": "code",
   "execution_count": 58,
   "metadata": {},
   "outputs": [],
   "source": [
    "H_ru_cc = compute_cluster_coeff(H_ru)\n",
    "R_ru_cc = compute_cluster_coeff(R_ru)"
   ]
  },
  {
   "cell_type": "code",
   "execution_count": 60,
   "metadata": {},
   "outputs": [
    {
     "name": "stdout",
     "output_type": "stream",
     "text": [
      "Cluster coefficient for the Russian Twitter Networks:\n",
      "\n",
      "Original network, H_ru 0.000344\n",
      "Random network, R_ru: 0.00044\n"
     ]
    }
   ],
   "source": [
    "print(\"Cluster coefficient for the Russian Twitter Networks:\\n\")\n",
    "print(\"Original network, H_ru\", round(H_ru_cc,6))\n",
    "print(\"Random network, R_ru:\", round(R_ru_cc,6))"
   ]
  },
  {
   "cell_type": "code",
   "execution_count": 61,
   "metadata": {},
   "outputs": [
    {
     "name": "stdout",
     "output_type": "stream",
     "text": [
      "Cluster coefficient for the Ukrainian Twitter Networks:\n",
      "\n",
      "Original network, H_uk 0.000158\n",
      "Random network, R_uk: 0.000442\n"
     ]
    }
   ],
   "source": [
    "print(\"Cluster coefficient for the Ukrainian Twitter Networks:\\n\")\n",
    "print(\"Original network, H_uk\", round(H_uk_cc,6))\n",
    "print(\"Random network, R_uk:\", round(R_uk_cc,6))"
   ]
  },
  {
   "cell_type": "code",
   "execution_count": 159,
   "metadata": {},
   "outputs": [
    {
     "data": {
      "text/plain": [
       "retweet     0.785794\n",
       "original    0.150758\n",
       "reply       0.063448\n",
       "Name: tweet_type, dtype: float64"
      ]
     },
     "execution_count": 159,
     "metadata": {},
     "output_type": "execute_result"
    }
   ],
   "source": [
    "all_tweets.loc[all_tweets.language == \"uk\"].tweet_type.value_counts()/len(all_tweets.loc[all_tweets.language == \"uk\"])"
   ]
  },
  {
   "cell_type": "code",
   "execution_count": 160,
   "metadata": {},
   "outputs": [
    {
     "data": {
      "text/plain": [
       "retweet     0.709740\n",
       "original    0.177193\n",
       "reply       0.113067\n",
       "Name: tweet_type, dtype: float64"
      ]
     },
     "execution_count": 160,
     "metadata": {},
     "output_type": "execute_result"
    }
   ],
   "source": [
    "all_tweets.loc[all_tweets.language == \"ru\"].tweet_type.value_counts()/len(all_tweets.loc[all_tweets.language == \"ru\"])"
   ]
  },
  {
   "cell_type": "markdown",
   "metadata": {},
   "source": [
    "## 3) Investigating Communities in the Twitter Networks"
   ]
  },
  {
   "cell_type": "markdown",
   "metadata": {},
   "source": [
    "### 3.1) Modularity\n",
    "\n",
    "We can investigate the communities in the Twitter Networks by computing the modularity values, which helps us measure how well a certain partition is at detecting communities. The higher these values are, the communities created are much stronger. This is because the *observed* number of links between nodes in the community is higher than the *expected* number of links, and we can infer that a certain cluster structure must be present. \n",
    "\n",
    "The modularity is a number between $[-1,1]$ - a value close to 1 indicates a strong partitioning and if we assign the whole network to a single community, the modularity value becomes 0 and a negative modularity value occurs for instance when we assign each node to a their own individual community. \n",
    "\n",
    "Computing the modularity of several partition allows us to compare them with eachother and optimizing this modularity value helps us to detect even stronger communities. \n",
    "\n",
    "Based on equation 9.12 in XX book, the formula for modularity is:\n",
    "$$\n",
    "M=\\sum_{c=1}^{n_{c}}\\left[\\frac{L_{c}}{L}-\\left(\\frac{k_{c}}{2 L}\\right)^{2}\\right]\n",
    "$$\n",
    "\n",
    "where $n_c$ is the number of communities in the partition, $N_c$ and $L_c$ is the number of nodes and edges respectively in each of the $n_c$ communities. Furthermore, $k_c$ is the total degree of nodes in in a community $C_c$ and L is the number of links in the entire graph. We formulate this in the following function:"
   ]
  },
  {
   "cell_type": "code",
   "execution_count": 62,
   "metadata": {
    "cell_id": "05677543e3b24859b90278b5500fbe14",
    "deepnote_cell_height": 315,
    "deepnote_cell_type": "code",
    "deepnote_to_be_reexecuted": false,
    "execution_millis": 2,
    "execution_start": 1650975146764,
    "source_hash": "d325ffb4",
    "tags": []
   },
   "outputs": [],
   "source": [
    "def compute_modularity(graph, partition):\n",
    "   \n",
    "    communities = list(set(partition.values()))  \n",
    "    L = graph.number_of_edges()\n",
    "    \n",
    "    M = 0\n",
    "    for c in communities:\n",
    "        group_c = [k for k,v in partition.items() if v == c]\n",
    "        subgraph_c = graph.subgraph(group_c)\n",
    "        k_c = sum([graph.degree[node] for node in subgraph_c.nodes()])\n",
    "        L_c = subgraph_c.number_of_edges()\n",
    "        M += (L_c/L) - (k_c/(2*L))**2\n",
    "        \n",
    "    return M"
   ]
  },
  {
   "cell_type": "markdown",
   "metadata": {},
   "source": [
    "### 3.2) Community Partitions\n",
    "To find communities in the Twitter Networks, we use [the Python Louvain-algorithm implementation](https://anaconda.org/auto/python-louvain) and we can use these partitions to color the nodes of the networks accordingly."
   ]
  },
  {
   "cell_type": "code",
   "execution_count": 63,
   "metadata": {},
   "outputs": [],
   "source": [
    "partition_uk = community.community_louvain.best_partition(H_uk)\n",
    "partition_ru = community.community_louvain.best_partition(H_ru)\n",
    "\n",
    "H_uk_mod = compute_modularity(H_uk, partition_uk)\n",
    "H_ru_mod = compute_modularity(H_ru, partition_ru)"
   ]
  },
  {
   "cell_type": "code",
   "execution_count": null,
   "metadata": {},
   "outputs": [],
   "source": [
    "print(f\"Modularity value for the Ukrainian Twitter Graph: {round(H_uk_mod,5)}\",\"\\n\")\n",
    "print(f\"Modularity value for the Russian Twitter Graph: {round(H_ru_mod,5)}\")"
   ]
  },
  {
   "cell_type": "markdown",
   "metadata": {},
   "source": [
    "### 3.3 Visualizing Community Partitions"
   ]
  },
  {
   "cell_type": "code",
   "execution_count": 65,
   "metadata": {},
   "outputs": [],
   "source": [
    "for k, v in H_uk.nodes(data=True):\n",
    "    v['group'] = partition_uk[k]\n",
    "    \n",
    "\n",
    "for k, v in H_ru.nodes(data=True):\n",
    "    v['group'] = partition_ru[k]"
   ]
  },
  {
   "cell_type": "markdown",
   "metadata": {},
   "source": [
    "### 3.4) Statistical Evaluation of Modularities"
   ]
  },
  {
   "cell_type": "code",
   "execution_count": 116,
   "metadata": {},
   "outputs": [],
   "source": [
    "def config_model(graph):\n",
    "    \n",
    "    # unpack the tuples in the edge list:\n",
    "    unique_list = [item for t in list(graph.edges()) for item in t]\n",
    "\n",
    "    #shuffle stubs:\n",
    "    random.shuffle(unique_list)\n",
    "\n",
    "    #new set of edges:\n",
    "    new_edges = list(zip([unique_list[index] for index in range(0, len(unique_list), 2)],\n",
    "                         [unique_list[index] for index in range(1, len(unique_list), 2)]))\n",
    "\n",
    "    #initialize new graph with created graphs\n",
    "    graph_new = nx.MultiGraph()\n",
    "    graph_new.add_edges_from(new_edges)\n",
    "    \n",
    "    return graph_new"
   ]
  },
  {
   "cell_type": "code",
   "execution_count": 143,
   "metadata": {},
   "outputs": [],
   "source": [
    "def config_mod1000(H, partition):\n",
    "    swaps = []\n",
    "    for i in range(1000):\n",
    "\n",
    "        T = H.copy()\n",
    "        T_swap = config_model(T)\n",
    "        swaps.append(T_swap)\n",
    "    \n",
    "    modularities = [compute_modularity(swap, partition) for swap in swaps]\n",
    "    \n",
    "    return modularities\n"
   ]
  },
  {
   "cell_type": "code",
   "execution_count": null,
   "metadata": {},
   "outputs": [],
   "source": [
    "uk_mods_config1000 = config_mod1000(H_uk, partition_uk)\n",
    "ru_mods_config1000 = config_mod1000(H_ru, partition_ru)"
   ]
  },
  {
   "cell_type": "code",
   "execution_count": null,
   "metadata": {},
   "outputs": [],
   "source": [
    "outfile = open(\"uk_modularities1000.pkl\",\"wb\")\n",
    "pickle.dump(uk_mods_config1000, outfile)\n",
    "outfile.close()\n",
    "\n",
    "outfile = open(\"ru_modularities1000.pkl\",\"wb\")\n",
    "pickle.dump(ru_mods_config1000, outfile)\n",
    "outfile.close()"
   ]
  },
  {
   "cell_type": "code",
   "execution_count": 161,
   "metadata": {},
   "outputs": [],
   "source": [
    "# set up plotting parameters\n",
    "def setup_mpl():\n",
    "    mpl.rcParams[\"font.family\"] = \"Helvetica Neue\"\n",
    "    mpl.rcParams[\"lines.linewidth\"] = 1\n",
    "\n",
    "setup_mpl()"
   ]
  },
  {
   "cell_type": "code",
   "execution_count": 170,
   "metadata": {},
   "outputs": [
    {
     "data": {
      "image/png": "[encoded data removed]",
      "text/plain": [
       "<Figure size 2400x900 with 1 Axes>"
      ]
     },
     "metadata": {
      "needs_background": "light"
     },
     "output_type": "display_data"
    }
   ],
   "source": [
    "fig, ax = plt.subplots(1,1, dpi=300, figsize=(8,3),tight_layout = True)\n",
    "ax.hist(uk_mods_config1000, label=\"Random modularity\", alpha=0.8)\n",
    "\n",
    "    \n",
    "ax.axvline(x=H_uk_mod, label=\"Original modularity\", color=\"r\", ls = \"--\")\n",
    "ax.set_ylabel(\"Modularity\")\n",
    "plt.title(\"Ukraine: Original vs Random Modularity\")\n",
    "plt.legend(loc=10)\n",
    "plt.savefig(\"uk_1000mods.png\")\n",
    "plt.show()"
   ]
  },
  {
   "cell_type": "code",
   "execution_count": 171,
   "metadata": {},
   "outputs": [
    {
     "data": {
      "image/png": "[encoded data removed]",
      "text/plain": [
       "<Figure size 2400x900 with 1 Axes>"
      ]
     },
     "metadata": {
      "needs_background": "light"
     },
     "output_type": "display_data"
    }
   ],
   "source": [
    "fig, ax = plt.subplots(1,1, dpi=300, figsize=(8,3),tight_layout = True)\n",
    "ax.hist(ru_mods_config1000, label=\"Random modularity\", alpha=0.8)\n",
    "\n",
    "    \n",
    "ax.axvline(x=H_uk_mod, label=\"Original modularity\", color=\"r\", ls = \"--\")\n",
    "ax.set_ylabel(\"Modularity\")\n",
    "plt.title(\"Russia: Original vs Random Modularity\")\n",
    "plt.legend(loc=10)\n",
    "plt.savefig(\"ru_1000mods.png\")\n",
    "plt.show()"
   ]
  },
  {
   "cell_type": "code",
   "execution_count": 174,
   "metadata": {},
   "outputs": [
    {
     "name": "stdout",
     "output_type": "stream",
     "text": [
      "Number of communities found: 606 \n",
      "\n",
      "Size of top 5 communities: [(14, 164), (26, 136), (3, 100), (10, 85), (30, 75)] \n",
      "\n"
     ]
    }
   ],
   "source": [
    "import nltk\n",
    "print(f\"Number of communities found: {len(set(partition_uk.values()))}\", \"\\n\")\n",
    "\n",
    "part_fd_uk = nltk.FreqDist(partition_uk.values())\n",
    "\n",
    "print(f\"Size of top 5 communities: {part_fd_uk.most_common(5)}\", \"\\n\")\n"
   ]
  },
  {
   "cell_type": "code",
   "execution_count": 175,
   "metadata": {},
   "outputs": [
    {
     "name": "stdout",
     "output_type": "stream",
     "text": [
      "Number of communities found: 1323 \n",
      "\n",
      "Size of top 5 communities: [(120, 291), (28, 290), (4, 228), (6, 225), (24, 194)] \n",
      "\n"
     ]
    }
   ],
   "source": [
    "import nltk\n",
    "print(f\"Number of communities found: {len(set(partition_ru.values()))}\", \"\\n\")\n",
    "\n",
    "part_fd_ru = nltk.FreqDist(partition_ru.values())\n",
    "\n",
    "print(f\"Size of top 5 communities: {part_fd_ru.most_common(5)}\", \"\\n\")\n",
    "\n"
   ]
  },
  {
   "cell_type": "markdown",
   "metadata": {},
   "source": [
    "## 4) Interactive Ukrainian and Russian Twitter Networks\n",
    "Creating interactive graphs based on original tweets and replies in Ukrainian and Russian."
   ]
  },
  {
   "cell_type": "code",
   "execution_count": null,
   "metadata": {},
   "outputs": [],
   "source": [
    "subset_tweets = all_tweets.sample(100000)"
   ]
  },
  {
   "cell_type": "code",
   "execution_count": 107,
   "metadata": {},
   "outputs": [],
   "source": [
    "w_edgelist_ru = create_w_edgelist(subset_tweets, \"ru\")\n",
    "_, I_ru = create_nx_graph(\"ru\",w_edgelist_ru)"
   ]
  },
  {
   "cell_type": "code",
   "execution_count": 106,
   "metadata": {},
   "outputs": [],
   "source": [
    "w_edgelist_uk = create_w_edgelist(subset_tweets, \"uk\")\n",
    "_, I_uk = create_nx_graph(\"uk\",w_edgelist_uk)"
   ]
  },
  {
   "cell_type": "code",
   "execution_count": 108,
   "metadata": {},
   "outputs": [
    {
     "name": "stdout",
     "output_type": "stream",
     "text": [
      "Name: \n",
      "Type: Graph\n",
      "Number of nodes: 1557\n",
      "Number of edges: 1030\n",
      "Average degree:   1.3231 \n",
      "\n",
      "Name: \n",
      "Type: Graph\n",
      "Number of nodes: 583\n",
      "Number of edges: 374\n",
      "Average degree:   1.2830\n"
     ]
    }
   ],
   "source": [
    "print(nx.info(I_ru),\"\\n\")\n",
    "\n",
    "print(nx.info(I_uk))"
   ]
  },
  {
   "cell_type": "code",
   "execution_count": 109,
   "metadata": {},
   "outputs": [],
   "source": [
    "partition_G_ru = community.community_louvain.best_partition(I_ru)\n",
    "partition_G_uk = community.community_louvain.best_partition(I_uk)"
   ]
  },
  {
   "cell_type": "code",
   "execution_count": 110,
   "metadata": {},
   "outputs": [],
   "source": [
    "def get_text(username,parent):\n",
    "    return subset_tweets.loc[(subset_tweets[\"username\"]==username)&\n",
    "                         (subset_tweets[\"parent_author\"]==parent)].translated_text.values[0]"
   ]
  },
  {
   "cell_type": "code",
   "execution_count": 111,
   "metadata": {},
   "outputs": [],
   "source": [
    "def w_edgelist_df(language, w_edgelist):\n",
    "    w_edgelist_df = w_edgelist.to_frame('size')\n",
    "    w_edgelist_df = w_edgelist_df.reset_index() \n",
    "    w_edgelist_df['text'] = w_edgelist_df[['username','parent_author']].apply(lambda x: get_text(*x), axis=1)\n",
    "    return w_edgelist_df"
   ]
  },
  {
   "cell_type": "code",
   "execution_count": 112,
   "metadata": {},
   "outputs": [],
   "source": [
    "w_edgelist_df_ru = w_edgelist_df(\"ru\",w_edgelist_ru)\n",
    "w_edgelist_df_uk = w_edgelist_df(\"uk\",w_edgelist_uk)"
   ]
  },
  {
   "cell_type": "code",
   "execution_count": 113,
   "metadata": {},
   "outputs": [],
   "source": [
    "def create_interactive_graph(w_edgelist, w_edgelist_df, partition):\n",
    "    colors = [\"#{:06x}\".format(random.randint(0, 0xFFFFFF)) for i in range(len(set(partition.values())))]\n",
    "    net = Network(notebook=True)\n",
    "    net.height = '1000px'\n",
    "    net.width = '1000px'\n",
    "\n",
    "    for user in list(w_edgelist_df.username.unique()):\n",
    "        net.add_nodes([user],\n",
    "                         title=[w_edgelist_df.loc[w_edgelist_df[\"username\"]==user].text.values[0]],\n",
    "                        color=[colors[partition[user]] if user in partition.keys() else '#FFFFFF'])\n",
    "\n",
    "    for parent in list(w_edgelist_df.parent_author.unique()):\n",
    "        net.add_nodes([parent],\n",
    "                        color=[colors[partition[parent]] if parent in partition.keys() else '#FFFFFF'])\n",
    "\n",
    "    for index, value in w_edgelist.items():\n",
    "        try:\n",
    "            net.add_edges([(index[0],index[1],value)])\n",
    "        except:\n",
    "            continue\n",
    "    return net"
   ]
  },
  {
   "cell_type": "code",
   "execution_count": null,
   "metadata": {
    "scrolled": true
   },
   "outputs": [],
   "source": [
    "net_ru = create_interactive_graph(w_edgelist_ru, w_edgelist_df_ru, partition_ru)\n",
    "net_ru.show('ru_final.html')"
   ]
  },
  {
   "cell_type": "code",
   "execution_count": null,
   "metadata": {},
   "outputs": [],
   "source": [
    "net_uk = create_interactive_graph(w_edgelist_uk, w_edgelist_df_uk, partition_uk)\n",
    "net_uk.show('uk_final.html')\n"
   ]
  }
 ],
 "metadata": {
  "deepnote": {},
  "deepnote_execution_queue": [],
  "deepnote_notebook_id": "b3950f92-5f9e-444f-bcb2-e9c4ae5cc47b",
  "kernelspec": {
   "display_name": "Python 3",
   "language": "python",
   "name": "python3"
  },
  "language_info": {
   "codemirror_mode": {
    "name": "ipython",
    "version": 3
   },
   "file_extension": ".py",
   "mimetype": "text/x-python",
   "name": "python",
   "nbconvert_exporter": "python",
   "pygments_lexer": "ipython3",
   "version": "3.8.6"
  }
 },
 "nbformat": 4,
 "nbformat_minor": 2
}
