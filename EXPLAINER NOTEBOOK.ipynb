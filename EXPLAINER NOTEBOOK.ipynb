{
 "cells": [
  {
   "cell_type": "markdown",
   "metadata": {
    "cell_id": "dac627f5d4c54a0b8cdbdbb0cdd1f5c3",
    "deepnote_cell_height": 484.375,
    "deepnote_cell_type": "markdown",
    "tags": []
   },
   "source": [
    "#### Website:\n",
    "https://almafaz.github.io/index.html#hero\n",
    "\n",
    "#### Github Repository:\n",
    "https://github.com/almafaz/almafaz.github.io\n",
    "\n",
    "#### Group Contributions\n",
    "Group members: Simone von Mehren (s190739), Natasha Norsker (s194270) and Alma Fazlagic (s194271)\n",
    "\n",
    "All group members contributed equally, but the main contributers on the sub-sections were:\n",
    "- *Data collection: Simone & Alma*\n",
    "- *Text cleaning: Natasha*\n",
    "- *Text analysis and visualizations: Natasha & Simone*\n",
    "- *Network analysis: Alma*\n",
    "- *Website: Natasha*\n",
    "- *HPC: Simone*\n",
    "- *Explainer notebook: All*"
   ]
  },
  {
   "cell_type": "markdown",
   "metadata": {
    "cell_id": "2c4c176d24334fbe927ff85e9f33dc7d",
    "deepnote_cell_height": 82,
    "deepnote_cell_type": "markdown",
    "tags": []
   },
   "source": [
    "# Explainer Notebook"
   ]
  },
  {
   "cell_type": "markdown",
   "metadata": {
    "cell_id": "e9ba4220aeac4b7db961ffd5d031794c",
    "deepnote_cell_height": 70,
    "deepnote_cell_type": "markdown",
    "tags": []
   },
   "source": [
    "## Motivation"
   ]
  },
  {
   "cell_type": "markdown",
   "metadata": {
    "cell_id": "57549162f53f4d429dcd7fd58ef3ae9b",
    "deepnote_cell_height": 824.75,
    "deepnote_cell_type": "markdown",
    "tags": []
   },
   "source": [
    "#### The Ukraine-Russia tweet data\n",
    "In this project we worked with a huge dataset of tweets discussing the on-going war between Ukraine and Russia. The dataset building the foundation for this project was originally retrieved from the Github repo of [ehsanulhaq1/russo_ukraine_dataset](https://github.com/ehsanulhaq1/russo_ukraine_dataset) and consists of tweet ids for all tweets containing certain key words relevant to the war in the period from 21st February 2022 to 15th April 2022. Using the tweet ids, we were able to download the corresponding tweets from Twitter as well as a number of attributes including the user name, language, date of creation, etc. Twitter is used by 229 million users daily [(www.aljazeera.com)](https://www.aljazeera.com/economy/2022/4/28/twitter-daily-user-growth-rises-as-musk-readies-to-take-control) and is thereby an extensive source, if one wants insights about the public opinion of some matter. The original dataset collected by ehsanulhaq consists of 3 million+ tweets distributed over 54 days and we subsampled one million tweets for the analysis and data visualisations in this project.\n",
    "\n",
    "#### Some of the million reasons why this data is interesting\n",
    "The Russian invasion of Ukraine has shook many countries and has severely affected economies, families and political relationships across the world. As an effect of Russia's endless war crimes, threat to Ukraine's independence and strained relationship to NATO, many countries have imposed sanctions on Russia resulting in price increases and a massive decrease in delivery of gas from Russia to the world. More importantly, more than 14.000 Ukranians have lost their lives and many more has become refugees in Europe. \n",
    "\n",
    "All of these reasons makes it interesting and highly relevant to analyse the public opinion and discourse towards Russia and the war in general - and Twitter is a great source to access this. We want to investigate whether there has been any change in the discourse and sentiment towards Ukraine and Russia during the period of the war, and whether there are any differences in the political and public opinion from one country to another. \n",
    "\n",
    "Furthermore, we will investigate the nature of how users interact in Ukrainian and Russian by doing a network analysis, where we look at both clustering trends and community detection. \n",
    "\n",
    "\n",
    "#### What's in it for you?\n",
    "In terms of our goal for the end users' experiences, we wanted to create an interactive webpage which invited the users to dig in to the investigation themselves. Overall we wanted to present an overview of what people are saying about the war on Twitter, which main subjects are discussed and who people interact with within their spoken language. \n",
    "\n",
    "We aimed at presenting our findings in an user-friendly and comprehensible way using a variety of data visualisations and interactive network graphs. The webpage was designed to put emphasis on the time/language aspects of the analysis making it easy for the user to understand our results and focus on one area at a time. The interactive parts of the webpage invites the user to engage in the analysis themselves and furthermore it was our hope that these features would make the experience fun and more appealing to the user.\n"
   ]
  },
  {
   "cell_type": "markdown",
   "metadata": {
    "cell_id": "90a7355940414d5fa765165d30d5a5ea",
    "deepnote_cell_height": 70,
    "deepnote_cell_type": "markdown",
    "tags": []
   },
   "source": [
    "## Basic stats. Let's get to know our data."
   ]
  },
  {
   "cell_type": "markdown",
   "metadata": {
    "cell_id": "d9da141dfa8b4aaa89e7fc62254bef03",
    "deepnote_cell_height": 701.5625,
    "deepnote_cell_type": "markdown",
    "tags": []
   },
   "source": [
    "The following sections of code include everything used for data preprocessing and cleaning. Due to the high memory usage and heavy computations, everything has been run on the hpc and is simply displayed here for documentation purposes.\n",
    "\n",
    "##### Dataset\n",
    "The original dataset include tweet ids retrieved from Twitter using the Twitter  streaming Api and include tweets from each day in the period 21-02-2022 to 15-04-2022. The dataset is available at the github repo: [ehsanulhaq1/russo_ukraine_dataset](https://github.com/ehsanulhaq1/russo_ukraine_dataset), where the authors are also listed. \n",
    "\n",
    "The tweet ids have been collected based on a range of keywords relevant to the war such as (russia, ukraine, putin, zelensky, russian, ukrainian, keiv, kyiv). However, the list of keywords were continuously updated by the authors during the period of the data collection, as more and more keywords became relevant for the crisis during the times of download. For access to the complete list of keywords, we refer to the original github (see link above). We reached out to the owner of the GitHub with the purpose of retrieving the specific keywords he used. Unfortunately he was not able to get back to us before the hand-in of the assignment. The Twitter streaming API tracked the requested key words and provided any tweet that contained any of the key words.\n",
    "\n",
    "##### Tweet ids\n",
    "The first snippet of code seen below has been used to download the tweet ids from the original github repo. To make sure we had a uniform distribution of data during the whole period, we extracted 18.000 randomly chosen tweet ids from the github repo for each day. This yielded a dataset of approximately 1 million tweets (even though the original dataset included 3 million+ tweets). The reduction of the size of the dataset was a necessity in this project, as it would have been infeasible for us to use the entire original dataset due to heavy computations and high memory usage.\n",
    "\n",
    "We are, however, aware of the fact that our final dataset is only a subset of the original dataset and therefore only represents a subset of the discussion of the war on twitter. In order to cross section our subset of data to be as representative as possible of the full dataset, we extract the tweet ids for each day randomly (i.e. randomized on tweet upload time), as we already mentioned briefly earlier.  Other factors contribute to this limitation as well. For example the key words used when collecting the tweet ids from Twitter controls which tweets are included and excluded from dataset. It is, however, obvious that many tweets within the subject of the Ukraine-Russian war will not include these keywords and therefore we must be aware of this limitation when making any conclusions based on our dataset. "
   ]
  },
  {
   "cell_type": "code",
   "execution_count": null,
   "metadata": {
    "cell_id": "ba835a31ed9245e8b9da678b45a08194",
    "deepnote_cell_height": 264,
    "deepnote_cell_type": "code",
    "owner_user_id": "3ea8e2e9-d8c4-46e0-86a0-ec5829faad1a",
    "tags": []
   },
   "outputs": [],
   "source": [
    "import numpy as np\n",
    "import random\n",
    "import pandas as pd\n",
    "import tweepy as tw\n",
    "\n",
    "import nltk\n",
    "from nltk.corpus import stopwords\n",
    "from nltk.stem import PorterStemmer\n",
    "from nltk import word_tokenize\n",
    "import re\n",
    "import glob\n",
    "import os"
   ]
  },
  {
   "cell_type": "code",
   "execution_count": null,
   "metadata": {
    "cell_id": "f2e9b53e4a60430a9a8f14b68346e31e",
    "deepnote_cell_height": 534,
    "deepnote_cell_type": "code",
    "tags": []
   },
   "outputs": [],
   "source": [
    "feb = ['2022-02-'+str(date) +'/2022-02-'+str(date) +\"_\" for date in range(21,29)]\n",
    "march = ['2022-03-'+str(date).zfill(2) +'/2022-03-'+str(date).zfill(2) +\"_\" for date in range(1,32)]\n",
    "april = ['2022-04-'+str(date).zfill(2) +'/2022-04-'+str(date).zfill(2) +\"_\" for date in range(1,16)]\n",
    "datedate = feb + march + april\n",
    "\n",
    "num_csv_pr_day = [22, 20, 48, 72, 72, 72, 78, 79, 7, 5, 6, 6, 5, 6, 5, 6, 5, 6, 6, 6, 5, 6, 5, 6, 5, 5, 6, 5, 6, 5, 5, 6, 5, 6, 5, 6, 6, 5, 6, 5, 5, 6, 5, 6, 5, 6, 5, 5, 6, 5, 6, 5, 6, 5]\n",
    "\n",
    "ids = []\n",
    "\n",
    "for i in range(len(datedate)):\n",
    "    date_ids = []\n",
    "\n",
    "    num_csv_picks = int(np.floor(num_csv_pr_day[i]/3))\n",
    "    csv_picks = random.sample(range(1,num_csv_pr_day[i]), num_csv_picks)\n",
    "    tweets_per_csv = int(np.floor(18000/num_csv_picks))\n",
    "\n",
    "    for j in csv_picks:\n",
    "        git_url = 'https://raw.githubusercontent.com/ehsanulhaq1/russo_ukraine_dataset/main/'+ datedate[i] + str(j) + '.csv'\n",
    "        df = pd.read_csv(git_url, header=0)\n",
    "        ids_temp = [item for sublist in list(df.values) for item in sublist][:tweets_per_csv]\n",
    "        ids.append(ids_temp)\n",
    "\n",
    "  \n",
    "ids = [item for sublist in ids for item in sublist]\n",
    "\n",
    "ids_df = pd.DataFrame(ids)\n",
    "ids_df.to_csv(\"ALL_IDS.csv\")"
   ]
  },
  {
   "cell_type": "markdown",
   "metadata": {
    "cell_id": "1601985621d5471dba8926f4f7140bad",
    "deepnote_cell_height": 523.765625,
    "deepnote_cell_type": "markdown",
    "tags": []
   },
   "source": [
    "##### Downloading the tweets\n",
    "After retrieving the tweet ids, we use the Twitter Api v2 to collect the corresponding tweets from Twitter and saved them all in a .csv-file. \n",
    "\n",
    "Our dataset consists of 18.000 tweets distributed over 54 days, and the dataset include tweets from 651.363 users in total. As the majority of the users do not allow tracking of geolocation, we were not able to save the countries/locations of the users and tweets as first intended. Instead we tracked the language used in each tweet and in total we found 32 languages. \n",
    "\n",
    "We saved the following 8 attributes for each tweet: \n",
    "\n",
    "- text of tweet (“full_text”)\n",
    "- hashtags (“entities.hashtags”)\n",
    "- id of tweet (“id”)\n",
    "- the name of the user of the tweet (“user.screen_name”)\n",
    "- the user that the tweet is replying to (“in_reply_to_screen_name”) \n",
    "- date of tweet upload (“created_at”)\n",
    "- the language the tweet is written in (“lang”)\n",
    "- the location of the tweet (if any) (“location”)\n",
    "\n",
    "The full text and hashtags were saved to be used in our text and discourse analysis later on. We used the creation date and written language of the tweet to filter the tweets on time and language, respectively, when performing the text and network analysis, and the tweet id and parent author were used to generate several social network graphs during the analysis."
   ]
  },
  {
   "cell_type": "code",
   "execution_count": null,
   "metadata": {
    "cell_id": "8405e7304cc84874926dea392e66e86b",
    "deepnote_cell_height": 1182,
    "deepnote_cell_type": "code",
    "tags": []
   },
   "outputs": [],
   "source": [
    "consumer_key= 'insert consumer key here'\n",
    "consumer_secret= 'insert consumer secret key here'\n",
    "access_token= 'insert access token here'\n",
    "access_token_secret= 'insert access token secret here'\n",
    "\n",
    "auth = tw.OAuthHandler(consumer_key, consumer_secret)\n",
    "auth.set_access_token(access_token, access_token_secret)\n",
    "api = tw.API(auth, wait_on_rate_limit=True)\n",
    "\n",
    "ALL_IDS = pd.read_csv(\"ALL_IDS.csv\")\n",
    "ALL_IDS = ALL_IDS.iloc[: , 1:]\n",
    "ALL_IDS.columns = [\"ids\"]\n",
    "ALL_IDS.drop(ALL_IDS.tail(25).index,inplace=True)\n",
    "\n",
    "#create pandas dataframe\n",
    "#create pandas dataframe\n",
    "tweets_df = pd.DataFrame(columns = ['text','tweet_type','tweet_id', 'username','parent_author',\n",
    "                                        'created_utc', 'location','language', 'place'])\n",
    "\n",
    "n=100\n",
    "step_size = 100\n",
    "\n",
    "#BIG LOOP\n",
    "for i in range(0, len(ALL_IDS), step_size):\n",
    "    batch = [item for sublist in list(ALL_IDS.values[i:n]) for item in sublist]\n",
    "    n+=100\n",
    "\n",
    "    # fetching the statuses from the API\n",
    "    statuses = api.lookup_statuses(batch,tweet_mode=\"extended\")\n",
    "    \n",
    "    #retrieve all tweet attributes\n",
    "    for status in statuses:\n",
    "        tweet_id = status.id\n",
    "        username = status.user.screen_name\n",
    "        \n",
    "        if hasattr(status, \"retweeted_status\"):\n",
    "            text = status.retweeted_status.full_text\n",
    "            parent_author = status.retweeted_status.user.screen_name\n",
    "            tweet_type = \"retweet\"\n",
    "        else:\n",
    "            text = status.full_text\n",
    "            parent_author = status.in_reply_to_screen_name\n",
    "            if parent_author != None:\n",
    "                tweet_type = \"reply\"\n",
    "            else:\n",
    "                tweet_type = \"original\"\n",
    "    \n",
    "        created = status.created_at\n",
    "        location = status.user.location\n",
    "        language = status.lang\n",
    "        place = status.place\n",
    "\n",
    "        #gather tweet attributes\n",
    "        tweet_attribitues = [text, tweet_type, tweet_id,username, parent_author, created, location, language,place]\n",
    "        \n",
    "        # Append to dataframe\n",
    "        tweets_df.loc[len(tweets_df)] = tweet_attribitues\n",
    "\n",
    "        if (len(tweets_df) % 25000 == 0):\n",
    "            tweets_df.to_csv(\"{}_tester_data.csv\".format(i))\n",
    "            tweets_df = pd.DataFrame(columns = ['text','tweet_type','tweet_id', 'username','parent_author',\n",
    "                                        'created_utc', 'location','language', 'place'])\n",
    "  "
   ]
  },
  {
   "cell_type": "code",
   "execution_count": null,
   "metadata": {
    "cell_id": "2faf4933642b45579338377300b35264",
    "deepnote_cell_height": 192,
    "deepnote_cell_type": "code",
    "tags": []
   },
   "outputs": [],
   "source": [
    "# concatenating all .csv-files in one\n",
    "\n",
    "path = r'data_collection/'\n",
    "all_files = glob.glob(os.path.join(path, \"*.csv\")) \n",
    "\n",
    "df_from_each_file = (pd.read_csv(f, engine='python') for f in all_files)\n",
    "concatenated_df   = pd.concat(df_from_each_file, ignore_index=True)\n",
    "concatenated_df.to_csv(\"ALL_DIRTY_TWEETS.csv\")"
   ]
  },
  {
   "cell_type": "markdown",
   "metadata": {
    "cell_id": "26c6cc28dc754dcbb03716d98b3d0694",
    "deepnote_cell_height": 380.78125,
    "deepnote_cell_type": "markdown",
    "tags": []
   },
   "source": [
    "##### Cleaning the data\n",
    "After extracting all tweets, we performed multiple steps of data cleaning before using the data for analysis. The following major steps were performed on all tweets in our data cleaning-process:\n",
    "\n",
    "- All tweets were translated to English in order to 1) make the tweets understandable for the us and 2) be able to use all kinds of analysis tools using an English corpus on all of the tweets in our dataset. \n",
    "- Tweets were transformed to lowercase \n",
    "- Tweets used for the analysis (with the exception of the wordshift analysis) were stemmed (using the Porter Stemmer from nltk). We chose to perform lowercasing and stemming in order to treat all variations of one word as the same.\n",
    "- Stopwords were removed in order to remove irrelevant and uninformative words from the analysis.\n",
    "- Only alpha-numeric letters. were saved in order to filter out any other unknown sort of symbols (such as emojies)\n",
    "- All hashtags in each tweet were found and saved for analysis later on.\n",
    "- The tweets were tokenized.\n",
    "\n",
    "The code used for this process can be seen below."
   ]
  },
  {
   "cell_type": "code",
   "execution_count": null,
   "metadata": {
    "cell_id": "dc1abb2f4f7f4e0ebd3dc0e64a84acf0",
    "deepnote_cell_height": 1506,
    "deepnote_cell_type": "code",
    "tags": []
   },
   "outputs": [],
   "source": [
    "from deep_translator import GoogleTranslator\n",
    "\n",
    "nltk.download('stopwords')\n",
    "nltk.download('punkt')\n",
    "stopword_vocab = stopwords.words('english')\n",
    "ps = PorterStemmer()\n",
    "\n",
    "# the following functions can be applied to a df with pandas apply function\n",
    "\n",
    "# translate text to english\n",
    "def translate_text(text, source='auto', target='en'):\n",
    "    lang_dict = {'afrikaans': 'af', 'albanian': 'sq', 'amharic': 'am', 'arabic': 'ar', 'armenian': 'hy', 'azerbaijani': 'az', 'basque': 'eu', 'belarusian': 'be', 'bengali': 'bn', 'bosnian': 'bs', 'bulgarian': 'bg', 'catalan': 'ca', 'cebuano': 'ceb', 'chichewa': 'ny', 'chinese (simplified)': 'zh-CN', 'chinese (traditional)': 'zh-TW', 'corsican': 'co', 'croatian': 'hr', 'czech': 'cs', 'danish': 'da', 'dutch': 'nl', 'english': 'en', 'esperanto': 'eo', 'estonian': 'et', 'filipino': 'tl', 'finnish': 'fi', 'french': 'fr', 'frisian': 'fy', 'galician': 'gl', 'georgian': 'ka', 'german': 'de', 'greek': 'el', 'gujarati': 'gu', 'haitian creole': 'ht', 'hausa': 'ha', 'hawaiian': 'haw', 'hebrew': 'iw', 'hindi': 'hi', 'hmong': 'hmn', 'hungarian': 'hu', 'icelandic': 'is', 'igbo': 'ig', 'indonesian': 'id', 'irish': 'ga', 'italian': 'it', 'japanese': 'ja', 'javanese': 'jw', 'kannada': 'kn', 'kazakh': 'kk', 'khmer': 'km', 'kinyarwanda': 'rw', 'korean': 'ko', 'kurdish': 'ku', 'kyrgyz': 'ky', 'lao': 'lo', 'latin': 'la', 'latvian': 'lv', 'lithuanian': 'lt', 'luxembourgish': 'lb', 'macedonian': 'mk', 'malagasy': 'mg', 'malay': 'ms', 'malayalam': 'ml', 'maltese': 'mt', 'maori': 'mi', 'marathi': 'mr', 'mongolian': 'mn', 'myanmar': 'my', 'nepali': 'ne', 'norwegian': 'no', 'odia': 'or', 'pashto': 'ps', 'persian': 'fa', 'polish': 'pl', 'portuguese': 'pt', 'punjabi': 'pa', 'romanian': 'ro', 'russian': 'ru', 'samoan': 'sm', 'scots gaelic': 'gd', 'serbian': 'sr', 'sesotho': 'st', 'shona': 'sn', 'sindhi': 'sd', 'sinhala': 'si', 'slovak': 'sk', 'slovenian': 'sl', 'somali': 'so', 'spanish': 'es', 'sundanese': 'su', 'swahili': 'sw', 'swedish': 'sv', 'tajik': 'tg', 'tamil': 'ta', 'tatar': 'tt', 'telugu': 'te', 'thai': 'th', 'turkish': 'tr', 'turkmen': 'tk', 'ukrainian': 'uk', 'urdu': 'ur', 'uyghur': 'ug', 'uzbek': 'uz', 'vietnamese': 'vi', 'welsh': 'cy', 'xhosa': 'xh', 'yiddish': 'yi', 'yoruba': 'yo', 'zulu': 'zu'}\n",
    "    \n",
    "    if source not in lang_dict.values():\n",
    "        return 'und'\n",
    "\n",
    "    else:\n",
    "        return GoogleTranslator(source=source, target=target).translate(text)\n",
    "\n",
    "# lowercase all letters in text\n",
    "def lowercase(txt):\n",
    "    return txt.lower()\n",
    "\n",
    "# removes emojis, links, special characters, hashtags\n",
    "def remove_links_special_characters(txt):\n",
    "        return ' '.join(re.sub(\"(@[A-Za-z0-9]+)|([^0-9A-Za-z \\t])|(\\w+:\\/\\/\\S+)\", \" \", txt).split()) \n",
    "\n",
    "# find all hashtags - might not be necessary if it is properly in data \n",
    "def find_hashtags(text):\n",
    "    found_hashtags = re.findall(r'#\\w+', text)\n",
    "    return [tick[1:].capitalize() for tick in found_hashtags]\n",
    "\n",
    "# tokenize the tweets + remove stopwords\n",
    "def tokenize_text(text, stem=True):\n",
    "    if stem:\n",
    "        filtered = [ps.stem(w.lower()) for w in word_tokenize(text) \n",
    "                    if w.isalpha() and w.lower() not in stopword_vocab]\n",
    "    else:\n",
    "        filtered = [w.lower() for w in word_tokenize(text) \n",
    "                    if w.isalpha() and w.lower() not in stopword_vocab]\n",
    "\n",
    "    return filtered\n",
    "\n",
    "\n",
    "def clean_tweet(tweet, language):\n",
    "    clean_tw = str(tweet)\n",
    "\n",
    "    # finds the hashtags (need to be done in og language)\n",
    "    try:\n",
    "        hashtags = find_hashtags(clean_tw)\n",
    "    except:\n",
    "        hashtags = []\n",
    "\n",
    "    # lowercase - before or after hashtag? \n",
    "    clean_tw = lowercase(clean_tw)\n",
    "\n",
    "    # translate only if the language is not english\n",
    "    if language != ('en'):\n",
    "        clean_tw = translate_text(text=clean_tw, source=language, target='en')\n",
    "\n",
    "        #translate hashtags\n",
    "        try:\n",
    "            hashtags = [translate_text(tag, language) for tag in hashtags]\n",
    "        except:\n",
    "            hashtags = []\n",
    "\n",
    "    # clean up in text (remove links, special characters etc.)\n",
    "    clean_tw = remove_links_special_characters(clean_tw)\n",
    "\n",
    "    tokenized = tokenize_text(clean_tw, stem=False)\n",
    "    tokenized_stemmed = tokenize_text(clean_tw, stem=True)\n",
    " \n",
    "    return (clean_tw, hashtags, tokenized, tokenized_stemmed)\n",
    "\n",
    "\n",
    "all_dirty_tweets_df = pd.read_csv('ALL_DIRTY_TWEETS.csv')\n",
    "    \n",
    "clean_results = all_dirty_tweets_df.apply(lambda x: clean_tweet(x['text'], x['language']), axis=1)\n",
    "all_dirty_tweets_df[['translated_text','translated_hashtags','tokenized_text','tokenized_text_stemmed']] = pd.DataFrame(clean_results.tolist(), columns=['translated_text', 'translated_hashtags', 'tokenized_text', 'tokenized_text_stemmed'])\n",
    "\n",
    "all_dirty_tweets_df.to_csv('ALL_TWEETS_CLEAN.csv')"
   ]
  },
  {
   "cell_type": "markdown",
   "metadata": {
    "cell_id": "9a107cd7cc9949c1b19d7bad23dd897b",
    "deepnote_cell_height": 62,
    "deepnote_cell_type": "markdown",
    "tags": []
   },
   "source": [
    "### Understanding the volume volatility of the data "
   ]
  },
  {
   "cell_type": "markdown",
   "metadata": {
    "cell_id": "b123ee7639bc4c86b53bc89b82d84d63",
    "deepnote_cell_height": 97.1875,
    "deepnote_cell_type": "markdown",
    "tags": []
   },
   "source": [
    "We created a plot over the volume of tweets per day for the english, ukranian and russian language respectively. This was done to get an overview of the volume for the different languages we were analysing. The actual volume graph was created in HTML, but the data for the graph was extracted in python and the extraction code can be seen below."
   ]
  },
  {
   "cell_type": "code",
   "execution_count": null,
   "metadata": {
    "cell_id": "1e08debc0b614950afb5552a5d45b55c",
    "deepnote_cell_height": 120,
    "deepnote_cell_type": "code",
    "tags": []
   },
   "outputs": [],
   "source": [
    "import datetime as dt\n",
    "from datetime import datetime, timedelta\n",
    "import pandas as pd\n",
    "import numpy as np"
   ]
  },
  {
   "cell_type": "code",
   "execution_count": null,
   "metadata": {
    "cell_id": "a90104ca550c4821a6d2c9be79552c5e",
    "deepnote_cell_height": 192,
    "deepnote_cell_type": "code",
    "tags": []
   },
   "outputs": [],
   "source": [
    "#reading data:\n",
    "data_df = pd.read_csv(\"/work/data/ALL_CLEAN_TWEETS.csv\",converters={'tokenized_text': eval,'tokenized_text_stemmed': eval,\"translated_hashtags\": eval })\n",
    "\n",
    "# make timestamp to a datetime object\n",
    "data_df[\"date_created\"] = pd.to_datetime(data_df['created_utc'], errors='coerce').dt.normalize()\n",
    "data_df[\"date\"] = data_df[\"date_created\"].dt.date\n",
    "\n",
    "data_df[\"translated_text\"] = data_df[\"translated_text\"].astype(str)"
   ]
  },
  {
   "cell_type": "code",
   "execution_count": null,
   "metadata": {
    "cell_id": "456f7c634b324a1ba0f94326a576e2bf",
    "deepnote_cell_height": 84,
    "deepnote_cell_type": "code",
    "tags": []
   },
   "outputs": [],
   "source": [
    "# run the following cells for 'ru', 'en' and 'uk'\n",
    "volume_df = data_df.loc[data_df.language=='ru']['date_created'].dt.date.value_counts().sort_index().reset_index()"
   ]
  },
  {
   "cell_type": "code",
   "execution_count": null,
   "metadata": {
    "cell_id": "7e5f5cb67fd542c6825afaaa5cc22f6b",
    "deepnote_cell_height": 84,
    "deepnote_cell_type": "code",
    "tags": []
   },
   "outputs": [],
   "source": [
    "#to list so we can put it directly into the html chart.js code\n",
    "[date_obj.strftime('%Y-%m-%d') for date_obj in volume_df['index']]"
   ]
  },
  {
   "cell_type": "code",
   "execution_count": null,
   "metadata": {
    "cell_id": "052ea499180545f891a628cf0f65ac8f",
    "deepnote_cell_height": 84,
    "deepnote_cell_type": "code",
    "tags": []
   },
   "outputs": [],
   "source": [
    "#to list so we can put it directly into the html chart.js code\n",
    "volume_df.date_created.tolist()"
   ]
  },
  {
   "cell_type": "markdown",
   "metadata": {
    "cell_id": "9ae02189bbdf4786816bfeb3beb5e054",
    "deepnote_cell_height": 517.578125,
    "deepnote_cell_type": "markdown",
    "tags": []
   },
   "source": [
    "<img src=\"notebook_imgs/tweet_volume.png\" alt=\"Tweet Volume Plot\"/>"
   ]
  },
  {
   "cell_type": "markdown",
   "metadata": {
    "cell_id": "888e3bab01044740b15ff724b5863ac6",
    "deepnote_cell_height": 97.1875,
    "deepnote_cell_type": "markdown",
    "tags": []
   },
   "source": [
    "It is easy to see that the volume of tweets written in english far succeeds the tweets written in ukranian and russian respectively. This is only expected as the english language has an overall higher volume of people speaking it. However, this leads to english hashtag trends and keywords possibly dominating in the analysis where we are not splitting by language."
   ]
  },
  {
   "cell_type": "markdown",
   "metadata": {
    "cell_id": "f7d1d5a4bf5544fe81f267229e4af58b",
    "deepnote_cell_height": 70,
    "deepnote_cell_type": "markdown",
    "tags": []
   },
   "source": [
    "## Tools, theory and analysis. From theory to insights."
   ]
  },
  {
   "cell_type": "markdown",
   "metadata": {
    "cell_id": "5cee5be8dca2451db31868604f45073c",
    "deepnote_cell_height": 62,
    "deepnote_cell_type": "markdown",
    "tags": []
   },
   "source": [
    "### Text analysis"
   ]
  },
  {
   "cell_type": "markdown",
   "metadata": {
    "cell_id": "c9fd34a78fff4111b40f41a87c843c67",
    "deepnote_cell_height": 54,
    "deepnote_cell_type": "markdown",
    "tags": []
   },
   "source": [
    "#### Dispersion Plot of Important Words"
   ]
  },
  {
   "cell_type": "code",
   "execution_count": null,
   "metadata": {
    "cell_id": "f83c10db746e412690038f3e7332824e",
    "deepnote_cell_height": 102,
    "deepnote_cell_type": "code",
    "tags": []
   },
   "outputs": [],
   "source": [
    "import pandas as pd\n",
    "import matplotlib.pyplot as plt\n",
    "import seaborn as sns"
   ]
  },
  {
   "cell_type": "code",
   "execution_count": null,
   "metadata": {
    "cell_id": "41107eea406e4baab5e13d0188a6af2d",
    "deepnote_cell_height": 192,
    "deepnote_cell_type": "code",
    "tags": []
   },
   "outputs": [],
   "source": [
    "#reading data:\n",
    "data_df = pd.read_csv(\"/work/data/ALL_CLEAN_TWEETS.csv\",converters={'tokenized_text': eval,'tokenized_text_stemmed': eval,\"translated_hashtags\": eval })\n",
    "\n",
    "# make timestamp to a datetime object\n",
    "data_df[\"date_created\"] = pd.to_datetime(data_df['created_utc'], errors='coerce').dt.normalize()\n",
    "data_df[\"date\"] = data_df[\"date_created\"].dt.date\n",
    "\n",
    "data_df[\"translated_text\"] = data_df[\"translated_text\"].astype(str)"
   ]
  },
  {
   "cell_type": "code",
   "execution_count": null,
   "metadata": {
    "cell_id": "6dae29390c3248d08ba380df11169497",
    "deepnote_cell_height": 300,
    "deepnote_cell_type": "code",
    "tags": []
   },
   "outputs": [],
   "source": [
    "# we need the date, language and the text to do the dispersion plot\n",
    "lexical_df = data_df.loc[data_df.language.isin(['en', 'ru', 'uk'])][['date', 'language', 'translated_text']].sort_index().reset_index()\n",
    "lexical_df['translated_text'] = lexical_df['translated_text']\n",
    "\n",
    "# we create our list of important wors\n",
    "words = \"belarus|loot|glory|vasylkiv|oil|economy|chernobyl| nuclear war\"\n",
    "\n",
    "# we find all the important words in the tweets\n",
    "lexical_df['words'] = lexical_df.translated_text.apply(lambda x: re.findall(words, x))\n",
    "\n",
    "# we explode the dataframe to have single important words per row\n",
    "lexical_df = lexical_df.explode('words')\n",
    "lexical_df = lexical_df[lexical_df['words'].notna()]\n",
    "lexical_df.head()"
   ]
  },
  {
   "cell_type": "code",
   "execution_count": null,
   "metadata": {
    "cell_id": "0487212bc53449fb88f323d0de5df5a2",
    "deepnote_cell_height": 174,
    "deepnote_cell_type": "code",
    "tags": []
   },
   "outputs": [],
   "source": [
    "# plotting the dispersion plot\n",
    "plt.figure(figsize=(22,12))\n",
    "plot = sns.stripplot(x=\"date\", y=\"words\", data=lexical_df, size=8, marker=\"s\", edgecolor=\"gray\", hue=\"language\")\n",
    "plt.xticks(rotation = 'vertical')\n",
    "plt.legend(loc = 2, bbox_to_anchor = (1,1))\n",
    "plt.savefig('dispersion.png')\n",
    "plt.show()"
   ]
  },
  {
   "cell_type": "markdown",
   "metadata": {
    "cell_id": "eae0267815e04b19abc0c5582dff91f9",
    "deepnote_cell_height": 538.484375,
    "deepnote_cell_type": "markdown",
    "tags": []
   },
   "source": [
    "<img src=\"notebook_imgs/dispersion.png\" alt=\"Dispersion Plot\"/>"
   ]
  },
  {
   "cell_type": "markdown",
   "metadata": {
    "cell_id": "f912b55453574fb6838977ec25fb3bc0",
    "deepnote_cell_height": 407.578125,
    "deepnote_cell_type": "markdown",
    "tags": []
   },
   "source": [
    "##### Analyses of dispersion plot\n",
    "Our initial intention with the dispersion plot was to use it to locate events or trends in time regarding the war. However, after numerous trials with different words we had to conclude that the dispersion plot does not show significant differences between the magnitude of usage of words. \n",
    "\n",
    "We do, however, see a few interesting tendencies in the dispersion plot above. First of all, the use of the Ukranian city name \"Vasylkiv\" peaks around the 25th-28th February 2022, then again around 12th March 2022 and lastly in the period of 1st-4th April 2022. These dates (/periods in time) corresponds to the dates of the initial and second attack on the city and the declaration of liberation from Russian invaders, respectively [(www.theguardian.com)](https://www.theguardian.com/world/2022/feb/28/vasylkiv-why-this-small-ukrainian-town-is-now-a-big-russian-target). \n",
    "\n",
    "Furthermore the word \"glory\" was used mostly by the Russians around February 28th 2022, which was a few days after the first attacks in the Russian invasion of Ukraine and this may be imply that the Russians were rather optimistic at this point in time. The word \"economy\" was used significantly more by the Russians than the other languages on March 8th 2022 which is appriximately a week after the West started to impose economical sanctions on Russia(ns). It can also be seen that the expression \"nuclear war\" seemed to be used more by the Russians around April 1st. We did not find any particular big events regarding this on the exact date but the debate of whether a nuclear war was a significant threat did rise during April 2022 so there may be some connection here."
   ]
  },
  {
   "cell_type": "markdown",
   "metadata": {
    "cell_id": "9e7c255c2f1d45b08ef66bf6a3a884c7",
    "deepnote_cell_height": 88.390625,
    "deepnote_cell_type": "markdown",
    "tags": []
   },
   "source": [
    "#### Wordshift Graphs\n",
    "\n",
    "how they were made\n",
    "\n"
   ]
  },
  {
   "cell_type": "code",
   "execution_count": null,
   "metadata": {
    "cell_id": "1ea389c64ba9424393a7460534a67eee",
    "deepnote_cell_height": 135,
    "deepnote_cell_type": "code",
    "deepnote_to_be_reexecuted": false,
    "execution_millis": 1067,
    "execution_start": 1651588838513,
    "source_hash": "7b1087cc",
    "tags": []
   },
   "outputs": [],
   "source": [
    "import pandas as pd\n",
    "from collections import Counter\n",
    "import shifterator as sh\n",
    "from datetime import datetime, timedelta"
   ]
  },
  {
   "cell_type": "code",
   "execution_count": null,
   "metadata": {
    "cell_id": "d587580eaf334a46934f76f564fbb58a",
    "deepnote_cell_height": 192,
    "deepnote_cell_type": "code",
    "tags": []
   },
   "outputs": [],
   "source": [
    "#reading data:\n",
    "data_df = pd.read_csv(\"/work/data/ALL_CLEAN_TWEETS.csv\",converters={'tokenized_text': eval,'tokenized_text_stemmed': eval,\"translated_hashtags\": eval })\n",
    "\n",
    "# make timestamp to a datetime object\n",
    "data_df[\"date_created\"] = pd.to_datetime(data_df['created_utc'], errors='coerce').dt.normalize()\n",
    "data_df[\"date\"] = data_df[\"date_created\"].dt.date\n",
    "\n",
    "data_df[\"translated_text\"] = data_df[\"translated_text\"].astype(str)"
   ]
  },
  {
   "cell_type": "markdown",
   "metadata": {
    "cell_id": "80734236a62d44f5888ecd7507e3029f",
    "deepnote_cell_height": 54,
    "deepnote_cell_type": "markdown",
    "tags": []
   },
   "source": [
    "##### Russian vs Ukranian Wordshift"
   ]
  },
  {
   "cell_type": "markdown",
   "metadata": {
    "cell_id": "202dd39859ca489a8af207c55c1a63d2",
    "deepnote_cell_height": 209.78125,
    "deepnote_cell_type": "markdown",
    "tags": []
   },
   "source": [
    "- We start out by building two lists $l_{ru}$ and $l_{uk}$. These lists contain all the tokens for tweets on russian and ukranian respectively.\n",
    "- For each hashtag $i$ we compute the relative frequency in the two lists $l_{ru}$ and $l_{uk}$. These are saved in the script as variables called p_ru and p_uk. In order to compute the relative frequency, we compute the number of times a token occurs over the total length of the document (the document is in this case all of the tokenized tweet text for the given language). \n",
    "- Then for each of the tokens, the happiness $h(i) = labMT(i) - 5$ is computed. We subtract 5 because we want the positive tokens to have a positive value, while the negative tokens gets a negative value. We use the labMT dictionary in order to compute the happiness scores for each token. Lastly we compute $\\delta \\Phi = h(i)\\cdot \\delta p(i)$."
   ]
  },
  {
   "cell_type": "code",
   "execution_count": null,
   "metadata": {
    "cell_id": "810a5860ac0d4487a217e82d1ac9b3d7",
    "deepnote_cell_height": 102,
    "deepnote_cell_type": "code",
    "tags": []
   },
   "outputs": [],
   "source": [
    "#making different dataframes for ukranian tweets and russian tweets\n",
    "lang_ru = data_df.loc[data_df.language=='ru']\n",
    "lang_uk = data_df.loc[data_df.language=='uk']"
   ]
  },
  {
   "cell_type": "code",
   "execution_count": null,
   "metadata": {
    "cell_id": "b3b62ee3ff7248e9ad203588c1d48743",
    "deepnote_cell_height": 102,
    "deepnote_cell_type": "code",
    "tags": []
   },
   "outputs": [],
   "source": [
    "#explode the tokenized text columns to only contain single strings instead of lists\n",
    "l_ru = lang_ru.tokenized_text.explode().to_list()\n",
    "l_uk = lang_uk.tokenized_text.explode().to_list()"
   ]
  },
  {
   "cell_type": "code",
   "execution_count": null,
   "metadata": {
    "cell_id": "07c9856744b44d6ea6497f53bda660a3",
    "deepnote_cell_height": 138,
    "deepnote_cell_type": "code",
    "tags": []
   },
   "outputs": [],
   "source": [
    "p_ru = dict([(key, value/len(l_ru)) for key,value in Counter(l_ru).items()])\n",
    "p_uk = dict([(key, value/len(l_uk)) for key,value in Counter(l_uk).items()])\n",
    "\n",
    "all_tokens = set(p_ru.keys()).union(set(p_uk.keys()))\n",
    "dp = dict([(token,p_ru.get(token,0) - p_uk.get(token,0)) for token in all_tokens])"
   ]
  },
  {
   "cell_type": "code",
   "execution_count": null,
   "metadata": {
    "cell_id": "c32c905074ff4ce4b8376c96bd068d64",
    "deepnote_cell_height": 66,
    "deepnote_cell_type": "code",
    "tags": []
   },
   "outputs": [],
   "source": [
    "sorted(dp.items(),key= lambda x:x[1], reverse=True)[:10]"
   ]
  },
  {
   "cell_type": "code",
   "execution_count": null,
   "metadata": {
    "cell_id": "b1144de86f7d456d9967f87c7e7be34e",
    "deepnote_cell_height": 84,
    "deepnote_cell_type": "code",
    "tags": []
   },
   "outputs": [],
   "source": [
    "h = dict([(token,lab_dict.get(token,np.nan)-5) for token in all_tokens])\n",
    "dPhi = dict([(token, h[token] * dp[token]) for token in all_tokens if not np.isnan(h[token])])"
   ]
  },
  {
   "cell_type": "code",
   "execution_count": null,
   "metadata": {
    "cell_id": "149d8450d2634f33adc438c3f7f8e918",
    "deepnote_cell_height": 66,
    "deepnote_cell_type": "code",
    "tags": []
   },
   "outputs": [],
   "source": [
    "sorted(dPhi.items(),key= lambda x:np.abs(x[1]), reverse=True)[:11]"
   ]
  },
  {
   "cell_type": "code",
   "execution_count": null,
   "metadata": {
    "cell_id": "030f948544274b989a0c4e001ec40d3a",
    "deepnote_cell_height": 192,
    "deepnote_cell_type": "code",
    "tags": []
   },
   "outputs": [],
   "source": [
    "sentiment_shift = sh.WeightedAvgShift(type2freq_1 = p_ru,\n",
    "                     type2freq_2 = p_uk,\n",
    "                       type2score_1 = lab_dict,\n",
    "                   reference_value =5)\n",
    "\n",
    "sentiment_shift.get_shift_graph(detailed=True,\n",
    "                               system_names = [\"Russian\",\"Ukranian\"])\n",
    "plt.show()"
   ]
  },
  {
   "cell_type": "markdown",
   "metadata": {
    "cell_id": "6e11c65d2faa444191fbd38e9709136b",
    "deepnote_cell_height": 1142,
    "deepnote_cell_type": "markdown",
    "tags": []
   },
   "source": [
    "<img src=\"notebook_imgs/wordshift2.png\" alt=\"Word Shift\"/>"
   ]
  },
  {
   "cell_type": "markdown",
   "metadata": {
    "cell_id": "66726c41976b420b81a556cdcb305a50",
    "deepnote_cell_height": 530.765625,
    "deepnote_cell_type": "markdown",
    "tags": []
   },
   "source": [
    "##### Analysis of word shifts for Russian and Ukranian\n",
    "To clarify what can be seen in the plot, the light colors represent the words that have been less frequently used in ukranian tweets than in russian tweets and the dark colors respresent words that are more frequently used in ukranian than in russian. \n",
    "\n",
    "Yellow indicates positive words, while blue indicates negative words.\n",
    "\n",
    "As can be seen by the light yellow color, the word 'russia' is not as commonly used by tweets written in ukranian, than they are in russian tweets. It can also be seen that it is counted as a positive word. Since the intention of the tweet is not necessarily for 'russia' to be positive, this might skew the overall result of the wordshift so that the overall ukranian tweets are counted more negatively than they perhaps should have been. \n",
    "\n",
    "To fix this issue, we would either have to have some contextual information and assign 'russia' and 'russian' our own sentiment score depending on the context or we would have to remove the word completely. Both of these seemed to be subpar solutions, since the decrease in the use of 'russia' and 'russian' is still a valuable insight and creating a context specific sentiment score for only the words 'russian' and 'russia' would make the wordshift unnecessarily complicated. \n",
    "\n",
    "It can be seen that ukrainian tweets more often include the word 'glory'. Ukrain has a war slogan 'Slava Ukraini' which translates to 'Glory to Ukraine' in english. 'win','victory' and 'enemy' is also more frequently used by ukrainian tweets. \n",
    "\n",
    "Russian tweets more often use the negative words 'bomb', 'operation', 'killed', 'attacked' than ukrainian tweets do. They also more often use the positive words like 'russia', 'russian', 'like', 'special', where, as previously stated the 'russia' and 'russian' is slightly more ambiguous in terms of what the sentiment score should be.\n",
    "\n",
    "Overall ukrainian tweets have a higher sentiment score than russian tweets, although the shift in sentiment score is not large.\n"
   ]
  },
  {
   "cell_type": "code",
   "execution_count": null,
   "metadata": {
    "cell_id": "8bbb80f12fe84388a1914f9263d64ef0",
    "deepnote_cell_height": 120,
    "deepnote_cell_type": "code",
    "tags": []
   },
   "outputs": [],
   "source": [
    "# this allows you to pull the scores from the shift graph (because we made ours in html)\n",
    "print(sentiment_shift.get_shift_scores()['world']*100)\n",
    "\n",
    "print(sentiment_shift.get_shift_component_sums())"
   ]
  },
  {
   "cell_type": "markdown",
   "metadata": {
    "cell_id": "71820e3f4e0f4f78b1f66d5a6ea2db79",
    "deepnote_cell_height": 54,
    "deepnote_cell_type": "markdown",
    "tags": []
   },
   "source": [
    "##### First Two Weeks vs Last Two Weeks Wordshift"
   ]
  },
  {
   "cell_type": "markdown",
   "metadata": {
    "cell_id": "528a3b275bd4416a8d97f6628b354163",
    "deepnote_cell_height": 232.1875,
    "deepnote_cell_type": "markdown",
    "tags": []
   },
   "source": [
    "- We start out by building two lists $l_{bef}$ and $l_{aft}$. These lists contain all the tokens for tweets posted during the first two weeks and the last two weeks respectively.\n",
    "- For each token $i$ we compute the relative frequency in the two lists $l_{bef}$ and $l_{aft}$. These are saved in the script as variables called p_bef and p_aft. In order to compute the relative frequency, we compute the number of times a token occurs over the total length of the document (the document is in this case all of the tokenized tweet text for the given time period). \n",
    "- Then for each of the tokens, the happiness $h(i) = labMT(i) - 5$ is computed. We subtract 5 because we want the positive tokens to have a positive value, while the negative tokens gets a negative value. We use the labMT dictionary in order to compute the happiness scores for each token. Lastly we compute $\\delta \\Phi = h(i)\\cdot \\delta p(i)$. This is stored as the dictionary called dp"
   ]
  },
  {
   "cell_type": "code",
   "execution_count": null,
   "metadata": {
    "cell_id": "8ef16158f470499fb586f1faca109d03",
    "deepnote_cell_height": 120,
    "deepnote_cell_type": "code",
    "tags": []
   },
   "outputs": [],
   "source": [
    "# min date range is the first 14 days of the war\n",
    "min_date_range = pd.date_range(data_df.date.sort_index()[0], periods=14).date\n",
    "# min date range is the last 14 days of the data\n",
    "max_date_range = pd.date_range(data_df.date.sort_index().iloc[-1], periods=14).date"
   ]
  },
  {
   "cell_type": "code",
   "execution_count": null,
   "metadata": {
    "cell_id": "a0248dafc5984f8389759e1caa569a56",
    "deepnote_cell_height": 84,
    "deepnote_cell_type": "code",
    "tags": []
   },
   "outputs": [],
   "source": [
    "min_date_df = data_df.loc[data_df.date.isin(min_date_range)]\n",
    "max_date_df = data_df.loc[data_df.date.isin(max_date_range)]"
   ]
  },
  {
   "cell_type": "code",
   "execution_count": null,
   "metadata": {
    "cell_id": "ae399e2dd8354b8192a70782c3baeb0d",
    "deepnote_cell_height": 102,
    "deepnote_cell_type": "code",
    "tags": []
   },
   "outputs": [],
   "source": [
    "#explode text columns to only have a single word per row instead of list \n",
    "l_bef = min_date_df.tokenized_text.explode().to_list()\n",
    "l_aft = max_date_df.tokenized_text.explode().to_list()"
   ]
  },
  {
   "cell_type": "code",
   "execution_count": null,
   "metadata": {
    "cell_id": "76e81733ae63466e824ea7794163994f",
    "deepnote_cell_height": 138,
    "deepnote_cell_type": "code",
    "tags": []
   },
   "outputs": [],
   "source": [
    "p_bef = dict([(key, value/len(l_bef)) for key,value in Counter(l_bef).items()])\n",
    "p_aft = dict([(key, value/len(l_aft)) for key,value in Counter(l_aft).items()])\n",
    "\n",
    "all_tokens = set(p_bef.keys()).union(set(p_aft.keys()))\n",
    "dp = dict([(token,p_bef.get(token,0) - p_aft.get(token,0)) for token in all_tokens])"
   ]
  },
  {
   "cell_type": "code",
   "execution_count": null,
   "metadata": {
    "cell_id": "1e474334de8d4425a9aec8932525121b",
    "deepnote_cell_height": 66,
    "deepnote_cell_type": "code",
    "tags": []
   },
   "outputs": [],
   "source": [
    "sorted(dp.items(),key= lambda x:x[1], reverse=True)[:10]"
   ]
  },
  {
   "cell_type": "code",
   "execution_count": null,
   "metadata": {
    "cell_id": "048b0cbe4d0c461db3c98bee97d075f8",
    "deepnote_cell_height": 84,
    "deepnote_cell_type": "code",
    "tags": []
   },
   "outputs": [],
   "source": [
    "h = dict([(token,lab_dict.get(token,np.nan)-5) for token in all_tokens])\n",
    "dPhi = dict([(token, h[token] * dp[token]) for token in all_tokens if not np.isnan(h[token])])"
   ]
  },
  {
   "cell_type": "code",
   "execution_count": null,
   "metadata": {
    "cell_id": "1954ba14e7ae4a8ebfbfe1d6a488d0e1",
    "deepnote_cell_height": 66,
    "deepnote_cell_type": "code",
    "tags": []
   },
   "outputs": [],
   "source": [
    "sorted(dPhi.items(),key= lambda x:np.abs(x[1]), reverse=True)[:11]"
   ]
  },
  {
   "cell_type": "code",
   "execution_count": null,
   "metadata": {
    "cell_id": "ecc93e80768a4c14b5042d6b6402a0ea",
    "deepnote_cell_height": 210,
    "deepnote_cell_type": "code",
    "tags": []
   },
   "outputs": [],
   "source": [
    "sentiment_shift = sh.WeightedAvgShift(type2freq_1 = p_bef,\n",
    "                     type2freq_2 = p_aft,\n",
    "                       type2score_1 = lab_dict,\n",
    "                   reference_value =5)\n",
    "\n",
    "sentiment_shift.get_shift_graph(detailed=True,\n",
    "                               system_names = [\"First Two Weeks\",\"Last Two Weeks\"])\n",
    "plt.savefig('wordshift_time.png')  \n",
    "plt.show()"
   ]
  },
  {
   "cell_type": "markdown",
   "metadata": {
    "cell_id": "883d91de33b345fd86918d446215424e",
    "deepnote_cell_height": 1142,
    "deepnote_cell_type": "markdown",
    "tags": []
   },
   "source": [
    "<img src=\"notebook_imgs/wordshift1.png\" alt=\"Word Shift\"/>"
   ]
  },
  {
   "cell_type": "markdown",
   "metadata": {
    "cell_id": "f16782ca6bf746a8934c0120936b50ab",
    "deepnote_cell_height": 390.78125,
    "deepnote_cell_type": "markdown",
    "tags": []
   },
   "source": [
    "#### Analysis of Time Wordshifts\n",
    "\n",
    "To clarify what can be seen in the plot, the light colors represent the words that have been less frequently used in the last two weeks than in the first two weeks and the dark colors respresent words that are more frequently used in the last two weeks than in the first two weeks. \n",
    "\n",
    "Yellow indicates positive words, while blue indicates negative words.\n",
    "\n",
    "As can be seen by the light blue color, the words 'crimes', 'rape' and 'raped' was more frequently used in the first two weeks. However, the words 'stop', 'refugees', 'nuclear' and 'hospital' are more frequently used now. This might be because there is a larger amount of refugees now than there was in the first two weeks of the war and the topic of nuclear war and nuclear explosions are more prevalent now ever since the attack near Chernobyl.\n",
    "\n",
    "The word 'plant' is more frequently used now, but it is not easy to determine if this is referring to crops or nuclear power plants without more context.\n",
    "\n",
    "There is a slightly higher overall sentiment in these previous two weeks of data than in the first two weeks. However, this difference is very slight - only 0.01 shift in sentiment score. "
   ]
  },
  {
   "cell_type": "markdown",
   "metadata": {
    "cell_id": "e870b79bb55b4f4fb038a544517ac0f1",
    "deepnote_cell_height": 46,
    "deepnote_cell_type": "markdown",
    "tags": []
   },
   "source": []
  },
  {
   "cell_type": "code",
   "execution_count": null,
   "metadata": {
    "cell_id": "423079128faa432fb550ddd9431b9cdc",
    "deepnote_cell_height": 120,
    "deepnote_cell_type": "code",
    "tags": []
   },
   "outputs": [],
   "source": [
    "# this allows you to pull the scores from the shift graph (because we made ours in html)\n",
    "print(sentiment_shift.get_shift_scores()['crimes']*100)\n",
    "\n",
    "print(sentiment_shift.get_shift_component_sums())"
   ]
  },
  {
   "cell_type": "markdown",
   "metadata": {
    "cell_id": "b56896fb6ae944baba486c4f66da50c5",
    "deepnote_cell_height": 811.421875,
    "deepnote_cell_type": "markdown",
    "tags": []
   },
   "source": [
    "#### Word clouds using TF-IDF scores\n",
    "\n",
    "We constructed several word clouds filtered on time and language, respectively, in order to display and highlight relevant words in debate on Twitter. The word clouds were generated based on TF-IDF scores in order to highlight, not simply the most frequent used words, but the most relevant words for the specific language or time period.\n",
    "\n",
    "The term frequency (TF) is computed using the following formular:\n",
    "$$\n",
    "\\large \\mathrm{TF}=\\frac{\\text { count of } \\mathrm{t} \\text { in } \\mathrm{d}}{\\text { total number of words in } \\mathrm{d}}\n",
    "$$\n",
    "where t is the term and d denotes the document.\n",
    "\n",
    "The IDF formula is as follows:\n",
    "$$\n",
    "\\large \\mathrm{IDF}=\\log \\left(\\frac{\\mathrm{N}}{\\mathrm{df}+1}\\right)\n",
    "$$\n",
    "where N is the total number of documents, df is the document frequency (number of documents in which term t occurs) and 1 is the shrink term.\n",
    "\n",
    "Usually it is smart to add a shrink term to the denominator (+1 for example) to avoid division by zero.\n",
    "\n",
    "However, in our case we are certain that all terms is present at least once in one of the documents and therefore we can omit the shrink term (which in return ensures no negative IDF values). Our final IDF formula used in the assignment is therefore the following:\n",
    "\n",
    "$$\n",
    "\\large \\mathrm{IDF}=\\log \\left(\\frac{\\mathrm{N}}{\\mathrm{df}}\\right)\n",
    "$$\n",
    "\n",
    "Three word clouds were constructed filtered on language; English, Ukranian and Russian.\n",
    "In the same way, three word clouds were constructed filtered on time in the periods; 21st Feb 2022 - 10th March 2022, 11th March 2022 - 29th March 2022 and 30th March 2022 - 15th April 2022. \n",
    "\n",
    "In the sections below, the code used for wordcloud generation can be seen. It should be noted that a random subsample of 50.000 data points were used to generate the wordclouds, as it was infeasible in terms of computation time to use all of the 1 million data points. This does of course mean that the corpus only represents a subset of 5% of the original which will most likely have an effect on the IDF scores especially. However, we assume that this is still a representative cross section of the data for the purpose of this specific part of the analysis.\n",
    "\n"
   ]
  },
  {
   "cell_type": "markdown",
   "metadata": {
    "cell_id": "a1d3e60959b34788bde09ce37e1331a9",
    "deepnote_cell_height": 54,
    "deepnote_cell_type": "markdown",
    "tags": []
   },
   "source": [
    "#### Wordclouds filtered on language: English, Ukranian and Russian"
   ]
  },
  {
   "cell_type": "code",
   "execution_count": null,
   "metadata": {
    "cell_id": "de8834b69c8049c08cb1c7c274a6f1f8",
    "deepnote_cell_height": 120,
    "deepnote_cell_type": "code",
    "tags": []
   },
   "outputs": [],
   "source": [
    "# load all data\n",
    "clean_text = pd.read_csv(\"/work/data/ALL_CLEAN_TWEETS.csv\",converters={'tokenized_text': eval,'tokenized_text_stemmed': eval,\"translated_hashtags\": eval }, low_memory=False)\n",
    "# subsample 50.000 data points randomly\n",
    "clean_text = clean_text.sample(n=50000, random_state=1)"
   ]
  },
  {
   "cell_type": "code",
   "execution_count": null,
   "metadata": {
    "cell_id": "010df34ab5df4484bf32bc8c240ebd9c",
    "deepnote_cell_height": 120,
    "deepnote_cell_type": "code",
    "tags": []
   },
   "outputs": [],
   "source": [
    "all_lang = ['en', 'pt', 'ru', 'ja', 'es', 'ca', 'de', 'fr', 'th', 'fi', 'uk',\n",
    "       'et', 'it', 'tr', 'und', 'pl', 'zh', 'nl', 'cs', 'ro', 'no', 'hi',\n",
    "       'el', 'ht', 'fa', 'in', 'tl', 'ta', 'da', 'ar', 'sv', 'sr', 'sl',\n",
    "       'lv']"
   ]
  },
  {
   "cell_type": "code",
   "execution_count": null,
   "metadata": {
    "cell_id": "32aed56ae44043719a90b1952952c36a",
    "deepnote_cell_height": 156,
    "deepnote_cell_type": "code",
    "tags": []
   },
   "outputs": [],
   "source": [
    "# function to create large documents of all words within one category (language or time period)\n",
    "\n",
    "def large_document(lang):\n",
    "    lang_list = clean_text.loc[clean_text['language'] == lang].tokenized_text.tolist()\n",
    "    lang_list = list(itertools.chain(*lang_list))\n",
    "    return lang_list"
   ]
  },
  {
   "cell_type": "code",
   "execution_count": null,
   "metadata": {
    "cell_id": "3fd74dc3897b401cb0f8cc7692490c34",
    "deepnote_cell_height": 120,
    "deepnote_cell_type": "code",
    "tags": []
   },
   "outputs": [],
   "source": [
    "# function to compute TF scores\n",
    "def computeTF(doc):\n",
    "    TF_dict = dict([(key, round(value/len(doc),6)) for key,value in Counter(doc).items()])\n",
    "    return TF_dict    "
   ]
  },
  {
   "cell_type": "code",
   "execution_count": null,
   "metadata": {
    "cell_id": "5f89ce5fad5943d5972f70c816229283",
    "deepnote_cell_height": 210,
    "deepnote_cell_type": "code",
    "tags": []
   },
   "outputs": [],
   "source": [
    "# create large documents for all 32 languages\n",
    "for lang in all_lang:\n",
    "    globals() [f'{lang}_doc'] = large_document(lang)\n",
    "\n",
    "all_docs = [en_doc, pt_doc, ru_doc, ja_doc, es_doc, ca_doc, de_doc, fr_doc, th_doc, fi_doc, uk_doc,\n",
    "       et_doc, it_doc, tr_doc, und_doc, pl_doc, zh_doc, nl_doc, cs_doc, ro_doc, no_doc, hi_doc,\n",
    "       el_doc, ht_doc, fa_doc, in_doc, tl_doc, ta_doc, da_doc, ar_doc, sv_doc, sr_doc, sl_doc,\n",
    "       lv_doc]\n"
   ]
  },
  {
   "cell_type": "code",
   "execution_count": null,
   "metadata": {
    "cell_id": "6bb884a35bfe4fa1a7b9bd5e9cf008c9",
    "deepnote_cell_height": 192,
    "deepnote_cell_type": "code",
    "tags": []
   },
   "outputs": [],
   "source": [
    "# compute TFs for all large documents\n",
    "for doc, lang in zip(all_docs, all_lang):\n",
    "    globals() [f'{lang}_TF'] = computeTF(doc)\n",
    "\n",
    "all_TF = [en_TF, pt_TF, ru_TF, ja_TF, es_TF, ca_TF, de_TF, fr_TF, th_TF, fi_TF, uk_TF,\n",
    "       et_TF, it_TF, tr_TF, und_TF, pl_TF, zh_TF, nl_TF, cs_TF, ro_TF, no_TF, hi_TF,\n",
    "       el_TF, ht_TF, fa_TF, in_TF, tl_TF, ta_TF, da_TF, ar_TF, sv_TF, sr_TF, sl_TF,\n",
    "       lv_TF]"
   ]
  },
  {
   "cell_type": "code",
   "execution_count": null,
   "metadata": {
    "cell_id": "8871cd162beb48b5b2bf7fe2756b4884",
    "deepnote_cell_height": 282,
    "deepnote_cell_type": "code",
    "tags": []
   },
   "outputs": [],
   "source": [
    "# Create corpora including the 32 large documents\n",
    "corpora = {}\n",
    "\n",
    "for lang in range(len(all_docs)):\n",
    "    corpora[lang] = all_docs[lang]\n",
    "\n",
    "corpora_list = []\n",
    "\n",
    "for i in range(len(corpora)):\n",
    "    corpora_list.append(corpora[i])\n",
    "\n",
    "corpora_set = set([term for sublist in corpora_list for term in sublist])\n"
   ]
  },
  {
   "cell_type": "code",
   "execution_count": null,
   "metadata": {
    "cell_id": "a9cb3d6aaaad41418e13835b4e8cc5ac",
    "deepnote_cell_height": 282,
    "deepnote_cell_type": "code",
    "tags": []
   },
   "outputs": [],
   "source": [
    "# compute IDF scores for all words in corpus\n",
    "IDFs = {}\n",
    "N = len(corpora)\n",
    "for term in tqdm(corpora_set):\n",
    "    # compute document frequency for each term:\n",
    "    counter = 0\n",
    "    for i in range(len(corpora)):\n",
    "        if term in set(corpora[i]):\n",
    "            counter += 1\n",
    "        # Compute IDF for term\n",
    "    #print(term)\n",
    "    IDFs[term] = np.log(N / counter)\n",
    "     "
   ]
  },
  {
   "cell_type": "code",
   "execution_count": null,
   "metadata": {
    "cell_id": "b1f557dd54704f0495ef84bfa3de8d17",
    "deepnote_cell_height": 210,
    "deepnote_cell_type": "code",
    "tags": []
   },
   "outputs": [],
   "source": [
    "# Create function for computing TF-IDF values\n",
    "def computeTF_IDF(TF_dict, IDF_dict):\n",
    "    tfidf_dict_lang = {}\n",
    "    for key, val in TF_dict.items():\n",
    "        tf = val\n",
    "        idf = IDF_dict[key]\n",
    "        tfidf_dict_lang[key] = round(tf*idf, 6)\n",
    "    \n",
    "    return tfidf_dict_lang"
   ]
  },
  {
   "cell_type": "code",
   "execution_count": null,
   "metadata": {
    "cell_id": "ca847fad45614be5bf79a6acbbd7300b",
    "deepnote_cell_height": 102,
    "deepnote_cell_type": "code",
    "tags": []
   },
   "outputs": [],
   "source": [
    "# compute TF-IDF scores for all languages\n",
    "for lang, tf in zip(all_lang, all_TF):\n",
    "    globals() [f'{lang}_tf_idf'] = computeTF_IDF(tf, IDFs)"
   ]
  },
  {
   "cell_type": "code",
   "execution_count": null,
   "metadata": {
    "cell_id": "0abe0ba069cd4783b34d0b0ef36a79eb",
    "deepnote_cell_height": 210,
    "deepnote_cell_type": "code",
    "tags": []
   },
   "outputs": [],
   "source": [
    "# function for generating wordcloud\n",
    "def generate_wordcloud(data, mask=None):\n",
    "    cloud = WordCloud(scale=4,\n",
    "                      max_words=150,\n",
    "                      colormap='twilight',\n",
    "                      mask=mask,\n",
    "                      background_color='white',\n",
    "                      ).generate_from_frequencies(data)\n",
    "    return cloud"
   ]
  },
  {
   "cell_type": "code",
   "execution_count": null,
   "metadata": {
    "cell_id": "3edfca5150f149c2847496745be4809f",
    "deepnote_cell_height": 120,
    "deepnote_cell_type": "code",
    "tags": []
   },
   "outputs": [],
   "source": [
    "# English wordcloud\n",
    "en_mask = np.array(Image.open('masks/world_mask.png'))\n",
    "wordcloud_en = generate_wordcloud(en_tf_idf, mask=en_mask)\n",
    "wordcloud_en.to_file(\"english_wc.png\")"
   ]
  },
  {
   "cell_type": "markdown",
   "metadata": {
    "cell_id": "600b65b25e1a47c3a229dabb0e98a2b5",
    "deepnote_cell_height": 486.703125,
    "deepnote_cell_type": "markdown",
    "tags": []
   },
   "source": [
    "<img src=\"notebook_imgs/english_wc.png\" alt=\"Drawing\"/>"
   ]
  },
  {
   "cell_type": "code",
   "execution_count": null,
   "metadata": {
    "cell_id": "4294df34fa564e3a9905ddbfdcebe331",
    "deepnote_cell_height": 120,
    "deepnote_cell_type": "code",
    "tags": []
   },
   "outputs": [],
   "source": [
    "# Russian wordcloud\n",
    "ru_mask = np.array(Image.open('masks/ru_mask.png'))\n",
    "wordcloud_ru = generate_wordcloud(ru_tf_idf, mask=ru_mask)\n",
    "wordcloud_ru.to_file(\"russian_wc.png\")"
   ]
  },
  {
   "cell_type": "markdown",
   "metadata": {
    "cell_id": "6cd032028de84c3f8d26e4c30f36bd57",
    "deepnote_cell_height": 595.78125,
    "deepnote_cell_type": "markdown",
    "tags": []
   },
   "source": [
    "<img src=\"notebook_imgs/russian_wc.png\" alt=\"Drawing\"/>"
   ]
  },
  {
   "cell_type": "code",
   "execution_count": null,
   "metadata": {
    "cell_id": "7dc5890e6a624f51bb5c9bdee5710c7b",
    "deepnote_cell_height": 120,
    "deepnote_cell_type": "code",
    "tags": []
   },
   "outputs": [],
   "source": [
    "# Ukranian wordcloud\n",
    "uk_mask = np.array(Image.open('masks/ukr_mask.png'))\n",
    "wordcloud_uk = generate_wordcloud(uk_tf_idf, mask=uk_mask)\n",
    "wordcloud_uk.to_file(\"ukranian_wc.png\")"
   ]
  },
  {
   "cell_type": "markdown",
   "metadata": {
    "cell_id": "61c1ea9fbdd049cd9640b7f457a4983b",
    "deepnote_cell_height": 668.875,
    "deepnote_cell_type": "markdown",
    "tags": []
   },
   "source": [
    "<img src=\"notebook_imgs/ukranian_wc.png\" alt=\"Drawing\"/>"
   ]
  },
  {
   "cell_type": "markdown",
   "metadata": {
    "cell_id": "dc5c5b44adb44da1ae68e5efb0e9e3c4",
    "deepnote_cell_height": 751.5625,
    "deepnote_cell_type": "markdown",
    "tags": []
   },
   "source": [
    "#### Analysis of language wordclouds\n",
    "\n",
    "##### English\n",
    "Looking at the English wordcloud we can get a sense of what words/subjects are discussed in general all over the\n",
    "world, as English is the language most often used to communicate between different nationalities.\n",
    "Some of the most prominent words are \"russia(n)\", \"ukraine(ian)\", \"zelensky\", \"putin\", \"biden\" and \"trump\", which are all very general in terms of the war. In other words the presence of these words could indicate that the political situation and factual development of the war is what is discussed the most across nationalities.\n",
    "This seems sensible as this is the ways in which most countries are affected by the war and therefore this is probably what is interesting to most people worldwide. Other words which represent more specific subjects include \"gas\", \"oligarchs\", \"nato\", \"oil\", \"fight\", \"support\" and \"kyiv\". This is most likely representing the consequences of the western sanctions towards Russia which have caused a shortage of gas and oil supply as well as price increases. Also it is highly debated to what extend NATO should help Ukraine and the presence of this word could indicate that people are expressing their opinion about this matter online. Lastly words like \"please\", \"fight\" and \"kyiv\" are included in the wordcloud. We cannot conclude anything regarding who is fighting for/supporting who based on these stand-alone words. However, the presence of the word \"kyiv\" indicates that a majority of the users expressing themselves in English are supporting Ukraine, as the choice of spelling Kyiv in the Ukrainian way has become a symbol of supporting the country during the war.\n",
    "\n",
    "##### Russian\n",
    "Looking at the Russian wordcloud, many of the words from the English wordclouds such as \"ukraine(ian)\", \"russia(n)\", \"zelensky\" and \"putin\" recur in here. However, some distinct words are present as well. These include \"terrorist\", \"operation\", \"oppression\", \"belarus\", \"access\", \"sanctions\" and many more. Once again it is hard to say anything certain about the dicourse and opinions towards these subjects based on single words but we can infer that subjects such as the development in the invasion of Ukraine and the effects of the sanctions towards their country are some of the focuses of the Russians.\n",
    "\n",
    "##### Ukranian\n",
    "One of the most distinctive and informative wordclouds in terms of sentiment and discourse are the Ukrainian. Here we see (probably) hashtags such as \"stoprussia\" and \"standwithukraine\" which of course expresses sympathy with their country. Words such as \"children\" and \"feminism\" may refer to the war crimes committed by Russia such as killing civilians (including targetting schools and kinder gardens) and rape of the women, and words like \"freedom\", \"please\" and \"world\" may symbolise the Ukranians' cry and hope for help from the rest of the world. It should be emphaised that this is just suggestions and we cannot conclude anything confidently about the meanings behind the wordclouds based entirely on singe words.\n"
   ]
  },
  {
   "cell_type": "markdown",
   "metadata": {
    "cell_id": "e912bc8c3ee74fab8a3d866825d822a1",
    "deepnote_cell_height": 54,
    "deepnote_cell_type": "markdown",
    "tags": []
   },
   "source": [
    "#### Wordclouds filtered on time period: 21/2-10/3, 11/3-29/3 and 30/3-15/4"
   ]
  },
  {
   "cell_type": "code",
   "execution_count": null,
   "metadata": {
    "cell_id": "e872664cf17f4080889b1eb1cd5e4c01",
    "deepnote_cell_height": 102,
    "deepnote_cell_type": "code",
    "tags": []
   },
   "outputs": [],
   "source": [
    "clean_text_test = clean_text.copy()\n",
    "clean_text_test['date_created'] = pd.to_datetime(clean_text_test['created_utc']).dt.normalize()\n",
    "clean_text_test = clean_text_test.sort_values(by=\"date_created\")"
   ]
  },
  {
   "cell_type": "code",
   "execution_count": null,
   "metadata": {
    "cell_id": "a58cc4157eb8450d804c4580b4e35d3a",
    "deepnote_cell_height": 408,
    "deepnote_cell_type": "code",
    "tags": []
   },
   "outputs": [],
   "source": [
    "#dataframe including first time period\n",
    "start_date1 = pd.to_datetime('2022-02-21 00:00:00+0000')\n",
    "end_date1 = pd.to_datetime('2022-03-10 00:00:00+0000')\n",
    "mask1 = (clean_text_test['date_created'] >= start_date1) & (clean_text_test['date_created'] <= end_date1)\n",
    "\n",
    "clean_text1 = clean_text_test.loc[mask1]\n",
    "\n",
    "#dataframe including second time period\n",
    "start_date2 = pd.to_datetime('2022-03-11 00:00:00+0000')\n",
    "end_date2 = pd.to_datetime('2022-03-29 00:00:00+0000')\n",
    "mask2 = (clean_text_test['date_created'] >= start_date2) & (clean_text_test['date_created'] <= end_date2)\n",
    "\n",
    "clean_text2 = clean_text_test.loc[mask2]\n",
    "\n",
    "#dataframe including third time period\n",
    "start_date3 = pd.to_datetime('2022-03-30 00:00:00+0000')\n",
    "end_date3 = pd.to_datetime('2022-04-15 00:00:00+0000')\n",
    "mask3 = (clean_text_test['date_created'] >= start_date3) & (clean_text_test['date_created'] <= end_date3)\n",
    "\n",
    "clean_text3 = clean_text_test.loc[mask3]"
   ]
  },
  {
   "cell_type": "code",
   "execution_count": null,
   "metadata": {
    "cell_id": "d4b6ad5862d14a8cb5e31d42561cfffa",
    "deepnote_cell_height": 246,
    "deepnote_cell_type": "code",
    "tags": []
   },
   "outputs": [],
   "source": [
    "# create large doc for all dates\n",
    "time_large_doc1 = clean_text1.tokenized_text.tolist()\n",
    "time_large_doc1 = list(itertools.chain(*time_large_doc1))\n",
    "\n",
    "time_large_doc2 = clean_text2.tokenized_text.tolist()\n",
    "time_large_doc2 = list(itertools.chain(*time_large_doc2))\n",
    "\n",
    "time_large_doc3 = clean_text3.tokenized_text.tolist()\n",
    "time_large_doc3 = list(itertools.chain(*time_large_doc3))\n",
    "\n",
    "all_docs_time = [time_large_doc1, time_large_doc2, time_large_doc3]"
   ]
  },
  {
   "cell_type": "code",
   "execution_count": null,
   "metadata": {
    "cell_id": "a4a4e676b6d4420488c5e2535f5b22a0",
    "deepnote_cell_height": 138,
    "deepnote_cell_type": "code",
    "tags": []
   },
   "outputs": [],
   "source": [
    "# compute TF\n",
    "time_tf1 = computeTF(time_large_doc1)\n",
    "time_tf2 = computeTF(time_large_doc2)\n",
    "time_tf3 = computeTF(time_large_doc3)\n"
   ]
  },
  {
   "cell_type": "code",
   "execution_count": null,
   "metadata": {
    "cell_id": "e385cd344b094c1ba73b46b525a34264",
    "deepnote_cell_height": 282,
    "deepnote_cell_type": "code",
    "tags": []
   },
   "outputs": [],
   "source": [
    "# Create corpora including the 32 large documents\n",
    "\n",
    "corpora_time = {}\n",
    "\n",
    "for period in range(3):\n",
    "    corpora_time[period] = all_docs_time[period]\n",
    "\n",
    "corpora_list_time = []\n",
    "\n",
    "for i in range(len(corpora_time)):\n",
    "    corpora_list_time.append(corpora_time[i])\n",
    "\n",
    "corpora_set_time = set([term for sublist in corpora_list_time for term in sublist])"
   ]
  },
  {
   "cell_type": "code",
   "execution_count": null,
   "metadata": {
    "cell_id": "7ea748b1aa9048d2a83b3831d5e964f3",
    "deepnote_cell_height": 228,
    "deepnote_cell_type": "code",
    "tags": []
   },
   "outputs": [],
   "source": [
    "IDFs_time = {}\n",
    "N = len(corpora_time)\n",
    "for term in tqdm(corpora_set_time):\n",
    "    # compute document frequency for each term:\n",
    "    counter = 0\n",
    "    for i in range(len(corpora_time)):\n",
    "        if term in set(corpora_time[i]):\n",
    "            counter += 1\n",
    "        # Compute IDF for term\n",
    "    IDFs_time[term] = np.log(N / counter)"
   ]
  },
  {
   "cell_type": "code",
   "execution_count": null,
   "metadata": {
    "cell_id": "5260b766380945bb9da0b104dabccb88",
    "deepnote_cell_height": 102,
    "deepnote_cell_type": "code",
    "tags": []
   },
   "outputs": [],
   "source": [
    "tf_idf1 = computeTF_IDF(time_tf1, IDFs_time)\n",
    "tf_idf2 = computeTF_IDF(time_tf2, IDFs_time)\n",
    "tf_idf3 = computeTF_IDF(time_tf3, IDFs_time)"
   ]
  },
  {
   "cell_type": "code",
   "execution_count": null,
   "metadata": {
    "cell_id": "bbfcb9e74e764bb4a498baeb30f09807",
    "deepnote_cell_height": 102,
    "deepnote_cell_type": "code",
    "tags": []
   },
   "outputs": [],
   "source": [
    "# 21/2 - 10/3 wordcloud\n",
    "wordcloud_period1 = generate_wordcloud(tf_idf1)\n",
    "wordcloud_period1.to_file(\"21_02_to_10_03_wc.png\")"
   ]
  },
  {
   "cell_type": "markdown",
   "metadata": {
    "cell_id": "efe79a7e92be41b9975db06383214da4",
    "deepnote_cell_height": 503,
    "deepnote_cell_type": "markdown",
    "tags": []
   },
   "source": [
    "<img src=\"notebook_imgs/21_02_to_10_03_wc.png\" alt=\"Drawing\" />"
   ]
  },
  {
   "cell_type": "code",
   "execution_count": null,
   "metadata": {
    "cell_id": "fedf7cce280c470dbb15435bb5099581",
    "deepnote_cell_height": 102,
    "deepnote_cell_type": "code",
    "tags": []
   },
   "outputs": [],
   "source": [
    "# 11/3 - 29/3 wordcloud\n",
    "wordcloud_period2 = generate_wordcloud(tf_idf2)\n",
    "wordcloud_period2.to_file(\"11_03_to_29_03_wc.png\")"
   ]
  },
  {
   "cell_type": "markdown",
   "metadata": {
    "cell_id": "026b169b2796431da07c8b31a80d49bb",
    "deepnote_cell_height": 503,
    "deepnote_cell_type": "markdown",
    "tags": []
   },
   "source": [
    "<img src=\"notebook_imgs/11_03_to_29_03_wc.png\" alt=\"Drawing\" />"
   ]
  },
  {
   "cell_type": "code",
   "execution_count": null,
   "metadata": {
    "cell_id": "f693bbf6c10b42e2811c253d5089b02d",
    "deepnote_cell_height": 102,
    "deepnote_cell_type": "code",
    "tags": []
   },
   "outputs": [],
   "source": [
    "# 30/3 - 15/4 wordcloud\n",
    "wordcloud_period3 = generate_wordcloud(tf_idf3)\n",
    "wordcloud_period3.to_file(\"30_03_to_15_04_wc.png\")"
   ]
  },
  {
   "cell_type": "markdown",
   "metadata": {
    "cell_id": "782863b203a6463f83b7b8fb6f28da2f",
    "deepnote_cell_height": 503,
    "deepnote_cell_type": "markdown",
    "tags": []
   },
   "source": [
    "<img src=\"notebook_imgs/30_03_to_15_04_wc.png\" alt=\"Drawing\" />"
   ]
  },
  {
   "cell_type": "markdown",
   "metadata": {
    "cell_id": "1b30b1b4394149f4a4a1ddbe1b39f21d",
    "deepnote_cell_height": 623.15625,
    "deepnote_cell_type": "markdown",
    "tags": []
   },
   "source": [
    "#### Analysis of time period wordclouds\n",
    "\n",
    "Looking at the wordclouds based on relevant words for different time periods, we hoped to see a change of discourse and/or subject as time proceeded. Looking at the first period of the war spanning from the Russian Invasion of Ukraine until March 10th, we see that some of the most prominent words are \"williamson\", \"edinburgh\" and \"absolutist\". The first refer to Hugh Williamson, the Europe and Central Asia director at Human Rights Watch, who in the first days of the war expressed deep concerns towards Russia's act of war crimes [(www.hrw.org)](https://www.hrw.org/news/2022/04/03/ukraine-apparent-war-crimes-russia-controlled-areas) and the term \"edinburgh\" may be rated as relevant because Ukranians joined in huge demonstrations in Scotland against the attacks on their homelands during the first days of the war [(www.bbc.com)](https://www.bbc.com/news/uk-scotland-60521038). \"Absolutist\" can refer to different specific cases or simply the meaning of the term itself. One specific case which was trending on March 7th was when Elon Musk refused to block Russian news sources, which resulted in many people accusing him of being a \"free speech absolutist\" [(www.economictimes.indiatimes.com)](https://economictimes.indiatimes.com/magazines/panache/ukraine-crisis-elon-musk-refuses-blocking-russian-news-sources-says-hes-a-free-speech-absolutist/articleshow/90013351.cms). \n",
    "\n",
    "Turning our attention towards the second wordcloud from March 11th to March 29th, the some of the largest displayed words are \"birzamanlar\", \"ibrahimcelikkol\", \"zulhak\", \"russianassettracker\" (probably a hashtag) and \"schwarzenegger\". When investigating these words, we found that some words seemed more related to the war than others. For example \"birzamanlar\" and \"ibrahimcelikkol\" is a Turkish expression and actor, respectively, which do not have any obvious connection to the war. On the other hand the expression \"russian-asset-tracker\" is the name of a global investigation into assets held outside Russia linked to individuals sanctioned for supporting the government of Russia [(www.theguardian.com)](https://www.theguardian.com/world/series/russian-asset-tracker) which were kicked off on April 8th 2022. Furthermore Arnold Schwarznegger held a speech on March 18th, where he publicly asked Putin to stop the war [(www.bbc.com)](https://www.bbc.com/news/world-us-canada-60794809).\n",
    "\n",
    "In the last wordcloud representing the period from March 30th until April 15th, it is very obvious to see that the focus of many tweets regarding the war is the rapid increase in war crimes performed by Russia. Words like burcha-massacre, rape and acid is in focus which most likely refers to killings and rapes in Bucha during the weeks of April [(www.kyivindependent.com)](https://kyivindependent.com/national/uncovering-the-scope-of-the-bucha-massacre/) as well as the public suspense of whether Russia has used chemical weapons in Ukraine [(www.19fortyfive.com)](https://www.19fortyfive.com/2022/04/chemical-warfare-in-ukraine-russia-destroys-nitric-acid-tank/).\n",
    "\n",
    "All in all the wordclouds based on TF-IDF scores gives insights into the historical and political developments during the war, and more specifically the TF-IDF scores seems to catch the more specific stories and trends rather than the overall most frequently used words. "
   ]
  },
  {
   "cell_type": "markdown",
   "metadata": {
    "cell_id": "e63619a6ca244eb29ffb5db75ef28a82",
    "deepnote_cell_height": 54,
    "deepnote_cell_type": "markdown",
    "tags": []
   },
   "source": [
    "#### Most Popular Hashtags Over Time"
   ]
  },
  {
   "cell_type": "code",
   "execution_count": null,
   "metadata": {
    "cell_id": "bbc4b3bc40e340788b88d4dbfbc45022",
    "deepnote_cell_height": 66,
    "deepnote_cell_type": "code",
    "tags": []
   },
   "outputs": [],
   "source": [
    "import pandas as pd"
   ]
  },
  {
   "cell_type": "code",
   "execution_count": null,
   "metadata": {
    "cell_id": "45faec83654140ba8252d5414438f3c2",
    "deepnote_cell_height": 138,
    "deepnote_cell_type": "code",
    "tags": []
   },
   "outputs": [],
   "source": [
    "# we need the date and hashtags\n",
    "hashtag_df = data_df[['date', 'translated_hashtags']]\n",
    "# remove tweets without hashtags\n",
    "hashtag_df = hashtag_df[hashtag_df.translated_hashtags.astype(bool)]\n",
    "hashtag_df.head(3)"
   ]
  },
  {
   "cell_type": "code",
   "execution_count": null,
   "metadata": {
    "cell_id": "e6287bc618dc4613945f2748728630ad",
    "deepnote_cell_height": 156,
    "deepnote_cell_type": "code",
    "tags": []
   },
   "outputs": [],
   "source": [
    "# we explode the dataframe to have single important words per row - this is because we want to find most frequently used hashtags\n",
    "hashtag_df = hashtag_df.explode('translated_hashtags')\n",
    "hashtag_value_counts = hashtag_df.translated_hashtags.value_counts()[:500]\n",
    "\n",
    "top_k_hashtags = list(hashtag_value_counts.index)\n",
    "counts = list(hashtag_value_counts)"
   ]
  },
  {
   "cell_type": "code",
   "execution_count": null,
   "metadata": {
    "cell_id": "8649f31069624957b24b3c80c0d13682",
    "deepnote_cell_height": 138,
    "deepnote_cell_type": "code",
    "tags": []
   },
   "outputs": [],
   "source": [
    "# remove undefined and y from hashtag list\n",
    "top_k_hashtags = set(top_k_hashtags)-set(['und', 'y'])\n",
    "\n",
    "# only use top k hashtags\n",
    "hashtag_df = hashtag_df.loc[hashtag_df.translated_hashtags.isin(top_k_hashtags)]"
   ]
  },
  {
   "cell_type": "code",
   "execution_count": null,
   "metadata": {
    "cell_id": "2aab329c973647c0947beeea1edea74a",
    "deepnote_cell_height": 174,
    "deepnote_cell_type": "code",
    "tags": []
   },
   "outputs": [],
   "source": [
    "# we explode the dataframe to have single important words per row\n",
    "hashtag_df = hashtag_df.explode('translated_hashtags')\n",
    "\n",
    "# group by date and hashtags and count how many per hashtag per day\n",
    "hashtag_df = hashtag_df.groupby(['date', 'translated_hashtags']).size().unstack(fill_value=0)\n",
    "\n",
    "hashtag_df.reset_index()"
   ]
  },
  {
   "cell_type": "code",
   "execution_count": null,
   "metadata": {
    "cell_id": "ebdd0185d2ce4e84b15d001c482f585c",
    "deepnote_cell_height": 120,
    "deepnote_cell_type": "code",
    "tags": []
   },
   "outputs": [],
   "source": [
    "hashtag_df = hashtag_df.reset_index()\n",
    "\n",
    "# melt the dataframe to only countain columns ['date', 'name', 'category', 'value'] (needed for js)\n",
    "hashtag_df = hashtag_df.melt(id_vars=[\"date\"], var_name=\"name\", value_name=\"value\")"
   ]
  },
  {
   "cell_type": "code",
   "execution_count": null,
   "metadata": {
    "cell_id": "ed5a29a2f9b248e2a6631b6f964318a6",
    "deepnote_cell_height": 174,
    "deepnote_cell_type": "code",
    "tags": []
   },
   "outputs": [],
   "source": [
    "hashtag_df['category'] = 'hashtag'\n",
    "hashtag_df = hashtag_df[['date', 'name', 'category', 'value']]\n",
    "hashtag_df = hashtag_df.set_index('date')\n",
    "hashtag_df.to_csv('data_hashtags.csv')\n",
    "hashtag_df\n",
    "\n",
    "# now save as csv file and copy over the data to file in d3js folder"
   ]
  },
  {
   "cell_type": "markdown",
   "metadata": {
    "cell_id": "b4860fc3f1124229971b3cd9565458a1",
    "deepnote_cell_height": 476.1875,
    "deepnote_cell_type": "markdown",
    "tags": []
   },
   "source": [
    "<img src=\"notebook_imgs/chartrace.png\" alt=\"Word Shift\"/>"
   ]
  },
  {
   "cell_type": "markdown",
   "metadata": {
    "cell_id": "db185d86a96b4a419917f64be2b4b64c",
    "deepnote_cell_height": 74.796875,
    "deepnote_cell_type": "markdown",
    "tags": []
   },
   "source": [
    "The bar chart is originally an animation displayed on our webpage but it was only possible to illustrate a still-image here (due to the implementation in HTML). We therefore refer to our webpage to see the live animation."
   ]
  },
  {
   "cell_type": "markdown",
   "metadata": {
    "cell_id": "b9306fdab10a4ec8b26e7712f7ea6b73",
    "deepnote_cell_height": 407.578125,
    "deepnote_cell_type": "markdown",
    "tags": []
   },
   "source": [
    "##### Analyses of dynamic bar chart\n",
    "Looking at the bar chart from day to day, we see a general persistent trend in hashtags such as Ukraine and Russia. Furthermore many hashtags expressing sympathy with Ukraine is trending throughout the period. Examples of these are \"StandWithUkraine\" and \"StopRussia\".\n",
    "\n",
    "One of the very interesting things we find when studying the development in hashtag-trends is that different Ukranian city names are trending around the same day as their were attacked by Russia. This means that the bar chart provides us with a rather precise timeline of the attacks of Ukrainian cities. On the 24/02/2022 we see that \"Kyiv\" is trending which corresponds to the day that Russia initiated attacks on the Kyiv Oblast [(www.edition.cnn.com)](https://edition.cnn.com/europe/live-news/ukraine-russia-news-02-24-22-intl/index.html). The same applies on 02/03/2022 where Kharkiv was trending and the Russian army captured Kharkiv [(www.nytimes.com)](https://www.nytimes.com/live/2022/03/02/world/ukraine-russia-war), Mariupol on 10/03/2022, where the city was bombed [(www.theguardian.com)](https://www.theguardian.com/world/2022/mar/10/mariupol-bombing-ukraine-before-and-after-satellite-images-map-russian-attack-residential-maternity-childrens-hospital) and lastly \"Bucha\" and \"Buchamassacre\" on 04/04/2022 and the following days. Bucha was visited on 04/04 by Ukranian president Zelensky after the killings, rapings and torturement of many Ukranian civilians.\n",
    "\n",
    "All in all it seems that the majority, if not all, of the top trending hashtags on Twitter regarding the war expresses sympathy with Ukraine in this time of war. It is therefore probable that the majority of Twitter users sympathises with Ukraine. Still it cannot be excluded that some nations may use other social media platforms than Twitter and therefore we cannot conclude that the majority of social media users in general supports Ukraine. "
   ]
  },
  {
   "cell_type": "markdown",
   "metadata": {
    "cell_id": "3923672c476f44c196ae692bb7b270df",
    "deepnote_cell_height": 315.984375,
    "deepnote_cell_type": "markdown",
    "tags": []
   },
   "source": [
    "### Twitter Networks\n",
    "\n",
    "In the social network aspect part of this assignment, we will investigate Twitter network graphs based on the language of users and parent authors in Ukrainian and Russian. We will first examine to which degree users cluster together and how the network clusters compares to a null model. Then we will look even further into these clusters and investigate how communities in the graphs are formed and how strong they are - for this we will use modularity as measure as well as comparing the graphs with configuration models.\n",
    "\n",
    "Due to computational limitations, an in-depth analysis of the English Twitter network is not possible. If we were to use the whole dataset to create the English betwork, we would have around 500.000 nodes which is infeasible to work with. For the Ukrainian and Russian networks, all data points are used - there is 3.562 and 10.339 data points respectively for the two groups. We tried sampling the English tweets (40.000 tweets), but decided that rather than drawing conlusions based on an analysis of a subset instead of the whole dataset, we would focus our attention on the two other language based networks. "
   ]
  },
  {
   "cell_type": "code",
   "execution_count": null,
   "metadata": {
    "cell_id": "72b06be13e6b4f84a8c4fee7b65fae9f",
    "deepnote_cell_height": 228,
    "deepnote_cell_type": "code",
    "tags": []
   },
   "outputs": [],
   "source": [
    "import matplotlib.cm as cm\n",
    "import matplotlib as mpl\n",
    "\n",
    "import networkx as nx\n",
    "import netwulf as nw\n",
    "from netwulf import visualize\n",
    "from pyvis.network import Network\n",
    "import community.community_louvain\n",
    "\n",
    "from itertools import combinations"
   ]
  },
  {
   "cell_type": "code",
   "execution_count": null,
   "metadata": {
    "cell_id": "01547eafad41418782dd6a3d091a03df",
    "deepnote_cell_height": 102,
    "deepnote_cell_type": "code",
    "tags": []
   },
   "outputs": [],
   "source": [
    "# loading all clean tweets\n",
    "all_tweets = pd.read_csv(\"/work/data/ALL_CLEAN_TWEETS.csv\",converters={'tokenized_text': eval,'tokenized_text_stemmed': eval,\"translated_hashtags\": eval }, low_memory=False)\n"
   ]
  },
  {
   "cell_type": "markdown",
   "metadata": {
    "cell_id": "3bb7fbb0f24242daa35cb7522e0a9ebb",
    "deepnote_cell_height": 200.390625,
    "deepnote_cell_type": "markdown",
    "tags": []
   },
   "source": [
    "#### Creating the graphs\n",
    "Unlike the GME graph, we will not build an reciprocal undirected graph from the weighted edgelists - this is because in the data collected, only tweets containing the keywords specified earlier are fetched, which limits us to get all replies to a single tweet. Furthermore, the Twitter API does not allow us to get all replies since this requires a Premium account. This means that there will not be connections that appear in both directions. This is something we should have considered in the beginning as limitation, but since a big part of Twitter is retweeting rather than actually replying (which would never result in connections in both directions), building non-reciprocal graphs may still be a good representation of the network.\n"
   ]
  },
  {
   "cell_type": "code",
   "execution_count": null,
   "metadata": {
    "cell_id": "c007d06063044edaa2385d65d1040877",
    "deepnote_cell_height": 282,
    "deepnote_cell_type": "code",
    "tags": []
   },
   "outputs": [],
   "source": [
    "# get both directed and undirected versions of the network graphs\n",
    "def create_nx_graph(language,w_edgelist):\n",
    "    G = nx.DiGraph()\n",
    "    for index, value in w_edgelist.items():\n",
    "        G.add_weighted_edges_from([(index[0],index[1],value)]) \n",
    "    H = G.to_undirected(reciprocal=False)\n",
    "    H.remove_edges_from(list(nx.selfloop_edges(H)))\n",
    "    H.remove_nodes_from(list(nx.isolates(H)))\n",
    "    return G,H\n",
    "\n",
    "def create_w_edgelist(df, language):\n",
    "    w_edgelist = df.loc[df[\"language\"]==language].groupby([\"username\", \"parent_author\"]).size()\n",
    "    return w_edgelist "
   ]
  },
  {
   "cell_type": "code",
   "execution_count": null,
   "metadata": {
    "cell_id": "f234c2db3a34444c9c5e5e5500cc631b",
    "deepnote_cell_height": 174,
    "deepnote_cell_type": "code",
    "tags": []
   },
   "outputs": [],
   "source": [
    "# creating network graphs based on the Ukrainian and Russian discourse:\n",
    "w_edgelist_uk = create_w_edgelist(all_tweets, \"uk\")\n",
    "G_uk, H_uk = create_nx_graph(\"uk\", w_edgelist_uk)\n",
    "\n",
    "w_edgelist_ru = create_w_edgelist(all_tweets,\"ru\")\n",
    "G_ru, H_ru = create_nx_graph(\"ru\", w_edgelist_ru)\n"
   ]
  },
  {
   "cell_type": "markdown",
   "metadata": {
    "cell_id": "49b56d1e6c7d44a998f6789b37572b1c",
    "deepnote_cell_height": 313.578125,
    "deepnote_cell_type": "markdown",
    "tags": []
   },
   "source": [
    "This gives us the following three undirected networks:\n",
    "\n",
    "**Ukrainian Twitter Network:**\n",
    "- Number of nodes: 3348\n",
    "- Number of edges: 2930\n",
    "- Average degree:   1.7503 \n",
    "\n",
    "**Russian Twitter Network:**\n",
    "- Number of nodes: 8544\n",
    "- Number of edges: 8132\n",
    "- Average degree:   1.9036 "
   ]
  },
  {
   "cell_type": "markdown",
   "metadata": {
    "cell_id": "1d563119aac04d0989088f3a099b51c9",
    "deepnote_cell_height": 389.3125,
    "deepnote_cell_type": "markdown",
    "tags": []
   },
   "source": [
    "#### Random Networks as Null Models\n",
    "Now we will create Random Networks as null models to investigate some properties of the Twitter Networks.\n",
    "\n",
    "We will create random networks based on the **R(N, p)** model introduced by Edgar Nelson Gilbert: Each pair of *N* labeled nodes is connected with probability *p*. Computing N and p from the network we are investigating is done by the following:\n",
    "\n",
    "The formula for the for the expected number of edges in the random network is (given in [section 3.3 of the Network Science book ](http://networksciencebook.com/chapter/3#number-of-links)):\n",
    "$$\n",
    "\\langle L\\rangle=\\sum_{L=0}^{\\frac{N(N-1)}{2}} L p_{L}=p \\frac{N(N-1)}{2}\n",
    "$$\n",
    "\n",
    "Setting $\\langle L\\rangle$ equal to the actual number of edges in the given network, the probabily p can be found by:\n",
    "$$\n",
    "p = \\frac{\\langle L\\rangle}{\\frac{N(N-1)}{2}}\n",
    "$$\n",
    "\n",
    "\n"
   ]
  },
  {
   "cell_type": "code",
   "execution_count": null,
   "metadata": {
    "cell_id": "f7a37f1056734cdfb79ae0a6aacea3c8",
    "deepnote_cell_height": 318,
    "deepnote_cell_type": "code",
    "tags": []
   },
   "outputs": [],
   "source": [
    "# using the formula above, the random network function is created:\n",
    "\n",
    "def create_random_network(H):\n",
    "    L_edges = len(H.edges())\n",
    "    N_nodes = len(H.nodes())\n",
    "    p = L_edges/(N_nodes * (N_nodes-1)/2)\n",
    "    \n",
    "    R = nx.Graph()\n",
    "    all_edge_combinations = list(combinations(range(N_nodes), 2))\n",
    "    \n",
    "    for edge in all_edge_combinations:\n",
    "        if random.random() < p:\n",
    "            R.add_edge(*edge)\n",
    "    return R\n",
    "    "
   ]
  },
  {
   "cell_type": "code",
   "execution_count": null,
   "metadata": {
    "cell_id": "a9c978b2309c4aef96f311b8253ec4b5",
    "deepnote_cell_height": 84,
    "deepnote_cell_type": "code",
    "tags": []
   },
   "outputs": [],
   "source": [
    "R_uk = create_random_network(H_uk)\n",
    "R_ru = create_random_network(H_ru)"
   ]
  },
  {
   "cell_type": "markdown",
   "metadata": {
    "cell_id": "ee532b96794f4043807fb8532730a227",
    "deepnote_cell_height": 313.578125,
    "deepnote_cell_type": "markdown",
    "tags": []
   },
   "source": [
    "This gives us the following Random Networks:\n",
    "\n",
    "**Random Ukrainian Twitter Network:**\n",
    "- Number of nodes: 2793\n",
    "- Number of edges: 3020\n",
    "- Average degree:   2.1625 \n",
    "\n",
    "**Random Russian Twitter Network:**\n",
    "- Number of nodes: 7274\n",
    "- Number of edges: 8135\n",
    "- Average degree:   2.2367\n"
   ]
  },
  {
   "cell_type": "markdown",
   "metadata": {
    "cell_id": "709b8b60a8734cdc8cb01f6425556da5",
    "deepnote_cell_height": 361.890625,
    "deepnote_cell_type": "markdown",
    "tags": []
   },
   "source": [
    "##### Clustering: Compare clustering trends in the Networks and their random counterpart\n",
    "\n",
    "Using the random networks, we can investigate the clustering trends within the Ukrainian and Russian Twitter networks. Computing the *local clustering coefficient* of a particular node allows us to capture the relationship between the neighbors of that node and relates then to the density of the neighboorhood - the more densely connected neighboorhood surrounding the mode, the higher is the coefficient. The local clustering coefficient is given [section 2.10 of the Network Science book](http://networksciencebook.com/chapter/2#connectedness) and is defined as:\n",
    "\n",
    "$$\n",
    "C_{i}=\\frac{2 L_{i}}{k_{i}\\left(k_{i}-1\\right)}\n",
    "$$\n",
    "where $L_i$ is the number of links between the $k_i$ neighbors of node $i$.\n",
    "\n",
    "We can then use this formula to compute the *average clustering coefficient* of the whole network:\n",
    "$$\n",
    "\\langle C\\rangle=\\frac{1}{N} \\sum_{i=1}^{N} C_{i}\n",
    "$$\n"
   ]
  },
  {
   "cell_type": "code",
   "execution_count": null,
   "metadata": {
    "cell_id": "4215622f396a4c62ab87aebbe5261520",
    "deepnote_cell_height": 444,
    "deepnote_cell_type": "code",
    "tags": []
   },
   "outputs": [],
   "source": [
    "# implementing the average clustering coefficient:\n",
    "\n",
    "def compute_cluster_coeff(G):\n",
    "    cluster_coefs = []\n",
    "\n",
    "    for node in list(G.nodes()):\n",
    "        \n",
    "        # clustering coefficient is 0 if the node only has one neighbor (there are no singletons either)\n",
    "        if len(list(G.neighbors(node))) == 1: \n",
    "            cluster_coefs.append(0)\n",
    "\n",
    "        else: \n",
    "            L_i = 0\n",
    "            neighbors = list(combinations(list(G.neighbors(node)), 2))\n",
    "            for pair in neighbors:\n",
    "                if G.has_edge(*pair):\n",
    "                    L_i+=1\n",
    "\n",
    "            k_i = G.degree(node)\n",
    "            cluster_coefs.append(2*L_i/(k_i*(k_i-1)+1e-5)) #add small number to avoid division by zero\n",
    "            \n",
    "    return np.mean(cluster_coefs)"
   ]
  },
  {
   "cell_type": "code",
   "execution_count": null,
   "metadata": {
    "cell_id": "714406be8c8241f1af3da0aa6b3bb4f1",
    "deepnote_cell_height": 138,
    "deepnote_cell_type": "code",
    "tags": []
   },
   "outputs": [],
   "source": [
    "H_uk_cc = compute_cluster_coeff(H_uk)\n",
    "R_uk_cc = compute_cluster_coeff(R_uk)\n",
    "\n",
    "H_ru_cc = compute_cluster_coeff(H_ru)\n",
    "R_ru_cc = compute_cluster_coeff(R_ru)"
   ]
  },
  {
   "cell_type": "markdown",
   "metadata": {
    "cell_id": "f23f91fd742f4efcbb49829e998d5710",
    "deepnote_cell_height": 226.390625,
    "deepnote_cell_type": "markdown",
    "tags": []
   },
   "source": [
    "Cluster coefficient for the Ukrainian Twitter Networks:\n",
    "- Original network, H_uk: **0.000158**\n",
    "- Random network, R_uk: **0.000442**\n",
    "\n",
    "Cluster coefficient for the Russian Twitter Networks:\n",
    "- Original network, H_ru: **0.000344**\n",
    "- Random network, R_ru: **0.00044**"
   ]
  },
  {
   "cell_type": "markdown",
   "metadata": {
    "cell_id": "a7036425aa2640158f8a7a48a5804a0d",
    "deepnote_cell_height": 54,
    "deepnote_cell_type": "markdown",
    "tags": []
   },
   "source": [
    "##### Visualizing the Twitter networks and their random counterpart"
   ]
  },
  {
   "cell_type": "markdown",
   "metadata": {
    "cell_id": "e8acddb45eee4afb9f4989a9b8142dea",
    "deepnote_cell_height": 508.390625,
    "deepnote_cell_type": "markdown",
    "tags": []
   },
   "source": [
    "**Ukrainian: Original vs. Random Graph**\n",
    "<table><tr>\n",
    "<td> <img src=\"notebook_imgs/network graphs/H_uk.png\" style=\"width:400px\"> </td>\n",
    "<td> <img src=\"notebook_imgs/network graphs/R_uk.png\" style=\"width:400px\"> </td>\n",
    "</tr></table>"
   ]
  },
  {
   "cell_type": "markdown",
   "metadata": {
    "cell_id": "25f91fd04f3c4b0e930fe19b5e26d07b",
    "deepnote_cell_height": 508.390625,
    "deepnote_cell_type": "markdown",
    "tags": []
   },
   "source": [
    "**Russian: Original vs. Random Graph**\n",
    "<table><tr>\n",
    "<td> <img src=\"notebook_imgs/network graphs/H_ru.png\" style=\"width:400px\"> </td>\n",
    "<td> <img src=\"notebook_imgs/network graphs/R_ru.png\" style=\"width:400px\"> </td>\n",
    "</tr></table>"
   ]
  },
  {
   "cell_type": "markdown",
   "metadata": {
    "cell_id": "1c8f8ac5d83f4b0aabcf38c94f735d10",
    "deepnote_cell_height": 713.15625,
    "deepnote_cell_type": "markdown",
    "tags": []
   },
   "source": [
    "**What do these findings tell us?**\n",
    "\n",
    "In compariring the Ukrainian and Russian cluster coefficients, we see that the Russian coefficent is a little over 2 times bigger than the Ukrainian. In the two networks, the distribution of original, replies and retweets are about 15%, 6% and 79% for Ukrainian tweets and 18%, 11% and 71%  for Russian tweets, which could explain why the Russian clustering coefficent is higher than that of Ukraine - it seems that people reply to each other more often rather than retweeting in the Russian network. However we must of course be aware that Russian is also spoken in Ukraine (the language distribution is about 68% Ukrainian and 30% Russian according to [Wikipedia](https://en.wikipedia.org/wiki/Languages_of_Ukraine)).\n",
    "\n",
    "In both cases, the clustering coefficient for the random network is actually higher than that of the original graphs, which tells us something about users replying to a tweet, will not usually continue to the talk with each other in the replies section for instance. Especially when retweeting is such a big part of twitter - if many people retweet the same tweet, they of course have the same parent author, but a cluster will not form around them since they do not reply to eachother. We can relate this to how the orignal networks compare to their random counterpart visually - in both networks, the number of edges are the roughly the same in the original and random networks, but the number of nodes is higher in the random graph. This could explain why the original networks look more sparse than their random counterpart.\n",
    "\n",
    "This clustering trend makes sense if we consider how useres generally interact on Twitter. The structure we typically will see in Twitter networks is for instance a certain tweet will go viral, which many will retweet, reply to and quote tweet - then these replies and quote tweeets will be retweeted and replied to and so on and it will continue almost in an exponential manner, meaning that people will not form one big discussion forum in the comments of the original tweet, but rather spread the message in a very fast and \"broad\" way.\n",
    "Furthermore, the connections we observe in these networks are not the same connections we see in a social network for instance - the links do not correspond to friendships but rather a reaction a user might have on something another user stated. Parent authors will not be enclined to respond in the same way as on Reddit for instance - if the Twitter account of big television network posts a tweet about some current news regarding the War, they will most likely not responds to users in their comment section. This means we will not typically observe triadic closures in these Twitter networks compared to a social network of friends, family and co-workers.\n",
    "\n",
    "Comparing the trend of how people interact on Twitter with Reddit, we know that there is much more of a sense of community on Reddit - when people will interact in subreddits talking about a specific topic and from answering each other back and fourth, they are much more likely to become friends or acquaintances at least. On Twitter however, seeing as the we investigate a difficult and widespread topic, there is not the same sense of community as on Reddit.\n",
    "\n",
    "\n"
   ]
  },
  {
   "cell_type": "markdown",
   "metadata": {
    "cell_id": "e17b6249a76147ccb4c85b08d68a9042",
    "deepnote_cell_height": 110.796875,
    "deepnote_cell_type": "markdown",
    "tags": []
   },
   "source": [
    "#### Investigating Communities in the Twitter Networks\n",
    "\n",
    "Even though we do not see the same strong sense of community on Twitter compared to Reddit, we can still investigate interesting properties of the unique community structures (if there exists such structures)."
   ]
  },
  {
   "cell_type": "markdown",
   "metadata": {
    "cell_id": "158134575c5443218b2db83c91f8b092",
    "deepnote_cell_height": 478.28125,
    "deepnote_cell_type": "markdown",
    "tags": []
   },
   "source": [
    "\n",
    "##### Modularity\n",
    "\n",
    "We can investigate the communities in the Twitter networks by computing the modularity values, which helps us measure how well a certain partition is at detecting communities. The higher these values are, the stronger are the created communities. This is because the *observed* number of links between nodes in the community is higher than the *expected* number of links, and we can infer that a certain cluster structure must be present. \n",
    "\n",
    "The modularity is a number between $[-1,1]$ - a value close to 1 indicates a strong partitioning and if we assign the whole network to a single community, the modularity value becomes 0 and a negative modularity value occurs for instance when we assign each node to a their own individual community. \n",
    "\n",
    "Computing the modularity of several partition allows us to compare them with eachother and optimizing this modularity value helps us to detect even stronger communities. \n",
    "\n",
    "Based on equation 9.12 in [section 9.4 of the Network Science book](http://networksciencebook.com/chapter/9#modularity), the formula for modularity is:\n",
    "$$\n",
    "M=\\sum_{c=1}^{n_{c}}\\left[\\frac{L_{c}}{L}-\\left(\\frac{k_{c}}{2 L}\\right)^{2}\\right]\n",
    "$$\n",
    "\n",
    "where $n_c$ is the number of communities in the partition, $N_c$ and $L_c$ is the number of nodes and edges respectively in each of the $n_c$ communities. Furthermore, $k_c$ is the total degree of nodes in in a community $C_c$ and L is the number of links in the entire graph. We formulate this in the following function:"
   ]
  },
  {
   "cell_type": "code",
   "execution_count": null,
   "metadata": {
    "cell_id": "19f473308cc24d27887a862268263a64",
    "deepnote_cell_height": 300,
    "deepnote_cell_type": "code",
    "tags": []
   },
   "outputs": [],
   "source": [
    "def compute_modularity(graph, partition):\n",
    "   \n",
    "    communities = list(set(partition.values()))  \n",
    "    L = graph.number_of_edges()\n",
    "    \n",
    "    M = 0\n",
    "    for c in communities:\n",
    "        group_c = [k for k,v in partition.items() if v == c]\n",
    "        subgraph_c = graph.subgraph(group_c)\n",
    "        k_c = sum([graph.degree[node] for node in subgraph_c.nodes()])\n",
    "        L_c = subgraph_c.number_of_edges()\n",
    "        M += (L_c/L) - (k_c/(2*L))**2\n",
    "        \n",
    "    return M"
   ]
  },
  {
   "cell_type": "markdown",
   "metadata": {
    "cell_id": "d9d21e9db0d24bafa013605031851416",
    "deepnote_cell_height": 110.796875,
    "deepnote_cell_type": "markdown",
    "tags": []
   },
   "source": [
    "##### Community Partitions\n",
    "To find communities in the Twitter Networks, we use [the Python Louvain-algorithm implementation](https://anaconda.org/auto/python-louvain) and we can use these partitions to color the nodes of the networks accordingly."
   ]
  },
  {
   "cell_type": "code",
   "execution_count": null,
   "metadata": {
    "cell_id": "82724a77551841ac8afc2a720ed2d463",
    "deepnote_cell_height": 282,
    "deepnote_cell_type": "code",
    "tags": []
   },
   "outputs": [],
   "source": [
    "partition_uk = community.community_louvain.best_partition(H_uk)\n",
    "partition_ru = community.community_louvain.best_partition(H_ru)\n",
    "\n",
    "H_uk_mod = compute_modularity(H_uk, partition_uk)\n",
    "H_ru_mod = compute_modularity(H_ru, partition_ru)\n",
    "\n",
    "# to visualize the communities\n",
    "for k, v in H_uk.nodes(data=True):\n",
    "    v['group'] = partition_uk[k]\n",
    "    \n",
    "\n",
    "for k, v in H_ru.nodes(data=True):\n",
    "    v['group'] = partition_ru[k]"
   ]
  },
  {
   "cell_type": "markdown",
   "metadata": {
    "cell_id": "953109246d184b119dd6fdb2272e7fa2",
    "deepnote_cell_height": 88.796875,
    "deepnote_cell_type": "markdown",
    "tags": []
   },
   "source": [
    "Modularity value for Ukrainian Twitter Graph: **0.92265**\n",
    "\n",
    "Modularity value for Russian Twitter Graph: **0.88728**\n"
   ]
  },
  {
   "cell_type": "markdown",
   "metadata": {
    "cell_id": "7958497c86bb417d999b096e114dc734",
    "deepnote_cell_height": 692.390625,
    "deepnote_cell_type": "markdown",
    "tags": []
   },
   "source": [
    "**Visualizing the communities in the Ukrainian network:**\n",
    "<img src=\"notebook_imgs/network graphs/H_uk_comms.png\" style=\"width:600px\">"
   ]
  },
  {
   "cell_type": "markdown",
   "metadata": {
    "cell_id": "fd626784f6d24f5093c29753d4bc1588",
    "deepnote_cell_height": 692.390625,
    "deepnote_cell_type": "markdown",
    "tags": []
   },
   "source": [
    "**Visualizing the communities in the Russian network:**\n",
    "<img src=\"notebook_imgs/network graphs/H_ru_comms.png\" style=\"width:600px\">"
   ]
  },
  {
   "cell_type": "markdown",
   "metadata": {
    "cell_id": "80a44889c3614f3794f77e0433faca39",
    "deepnote_cell_height": 329.984375,
    "deepnote_cell_type": "markdown",
    "tags": []
   },
   "source": [
    "#### Statistical Evaluation of the Modularities\n",
    "Before we can conclude anything regarding the found communities based on their modularity value, we must asses if the modularity computed is statitically different from $0$. To do this we implement a configuration model, which will create a new network, such that the degree of each node is the same as in the original network, but with different links. The algorithm works in the following way:\n",
    "\n",
    "- Create an identical copy of the original network.\n",
    "- Consider the list of network edges and split them into source and target nodes.\n",
    "- Concencatenate the two lists into a unique list (a list of stubs).\n",
    "- Shuffle the list and build a new set of edges.\n",
    "- Remove all the orignal edges and add the new shuffled edges to the network.\n",
    "\n",
    "This is implemented in the following function:"
   ]
  },
  {
   "cell_type": "code",
   "execution_count": null,
   "metadata": {
    "cell_id": "89a35e067f7b4d62891635b402eb5482",
    "deepnote_cell_height": 354,
    "deepnote_cell_type": "code",
    "tags": []
   },
   "outputs": [],
   "source": [
    "def config_model(G):\n",
    "    \n",
    "    # unpack the tuples in the edge list:\n",
    "    unique_list = [item for t in list(G.edges()) for item in t]\n",
    "\n",
    "    # shuffle stubs:\n",
    "    random.shuffle(unique_list)\n",
    "\n",
    "    # new set of edges:\n",
    "    new_edges = list(zip([unique_list[index] for index in range(0, len(unique_list), 2)],\n",
    "                         [unique_list[index] for index in range(1, len(unique_list), 2)]))\n",
    "\n",
    "    # initialize new graph with created graphs\n",
    "    G_new = nx.MultiGraph()\n",
    "    G_new.add_edges_from(new_edges)\n",
    "    \n",
    "    return G_new"
   ]
  },
  {
   "cell_type": "markdown",
   "metadata": {
    "cell_id": "e0acc7820f08438688d84faabf87d785",
    "deepnote_cell_height": 74.796875,
    "deepnote_cell_type": "markdown",
    "tags": []
   },
   "source": [
    "Using this algorithm we create $1000$ randomized version of the networks and for each of them, we compute the modularity of the partitions."
   ]
  },
  {
   "cell_type": "code",
   "execution_count": null,
   "metadata": {
    "cell_id": "497a891ed5734cc49ee797fc883b1535",
    "deepnote_cell_height": 264,
    "deepnote_cell_type": "code",
    "tags": []
   },
   "outputs": [],
   "source": [
    "def config_mod1000(H, partition):\n",
    "    swaps = []\n",
    "    for i in range(1000):\n",
    "\n",
    "        T = H.copy()\n",
    "        T_swap = config_model(T)\n",
    "        swaps.append(T_swap)\n",
    "    \n",
    "    modularities = [compute_modularity(swap, partition) for swap in swaps]\n",
    "    \n",
    "    return modularities\n",
    "    "
   ]
  },
  {
   "cell_type": "code",
   "execution_count": null,
   "metadata": {
    "cell_id": "67405ec431e744e5b8dd97a6ccade81d",
    "deepnote_cell_height": 84,
    "deepnote_cell_type": "code",
    "tags": []
   },
   "outputs": [],
   "source": [
    "uk_mods = config_mod1000(H_uk, partition_uk)\n",
    "ru_mods = config_mod1000(H_ru, partition_ru)"
   ]
  },
  {
   "cell_type": "markdown",
   "metadata": {
    "cell_id": "ad20c96965404fc9a0e59a6f3a68ae65",
    "deepnote_cell_height": 52.390625,
    "deepnote_cell_type": "markdown",
    "tags": []
   },
   "source": [
    "We can plot these modularities for each network:"
   ]
  },
  {
   "cell_type": "code",
   "execution_count": null,
   "metadata": {
    "cell_id": "5fb49557306447e08563bebd4ed3f509",
    "deepnote_cell_height": 156,
    "deepnote_cell_type": "code",
    "tags": []
   },
   "outputs": [],
   "source": [
    "# set up plotting parameters\n",
    "def setup_mpl():\n",
    "    mpl.rcParams[\"font.family\"] = \"Helvetica Neue\"\n",
    "    mpl.rcParams[\"lines.linewidth\"] = 1\n",
    "\n",
    "setup_mpl()"
   ]
  },
  {
   "cell_type": "code",
   "execution_count": null,
   "metadata": {
    "cell_id": "fece3f315fa64de28ad085dafd7b1d52",
    "deepnote_cell_height": 228,
    "deepnote_cell_type": "code",
    "tags": []
   },
   "outputs": [],
   "source": [
    "fig, ax = plt.subplots(1,1, dpi=300, figsize=(8,3),tight_layout = True)\n",
    "ax.hist(uk_mods, label=\"Random modularity\", alpha=0.8)\n",
    "\n",
    "    \n",
    "ax.axvline(x=H_uk_mod, label=\"Original modularity\", color=\"r\", ls = \"--\")\n",
    "ax.set_ylabel(\"Modularity\")\n",
    "plt.title(\"Ukraine: Original vs Random Modularity\")\n",
    "plt.legend(loc=10)\n",
    "plt.savefig(\"uk_1000mods.png\")\n",
    "plt.show()"
   ]
  },
  {
   "cell_type": "code",
   "execution_count": null,
   "metadata": {
    "cell_id": "c6a9274093154cb4948474d2d03ad3cb",
    "deepnote_cell_height": 228,
    "deepnote_cell_type": "code",
    "tags": []
   },
   "outputs": [],
   "source": [
    "fig, ax = plt.subplots(1,1, dpi=300, figsize=(8,3),tight_layout = True)\n",
    "ax.hist(ru_mods, label=\"Random modularity\", alpha=0.8)\n",
    "\n",
    "    \n",
    "ax.axvline(x=H_uk_mod, label=\"Original modularity\", color=\"r\", ls = \"--\")\n",
    "ax.set_ylabel(\"Modularity\")\n",
    "plt.title(\"Russia: Original vs Random Modularity\")\n",
    "plt.legend(loc=10)\n",
    "plt.savefig(\"ru_1000mods.png\")\n",
    "plt.show()"
   ]
  },
  {
   "cell_type": "markdown",
   "metadata": {
    "cell_id": "ed991724bae54acfb434f521ab352d1e",
    "deepnote_cell_height": 690,
    "deepnote_cell_type": "markdown",
    "tags": []
   },
   "source": [
    "<img src=\"notebook_imgs/network graphs/uk_1000mods.png\" style=\"width:800px\">\n",
    "<img src=\"notebook_imgs/network graphs/ru_1000mods.png\" style=\"width:800px\">"
   ]
  },
  {
   "cell_type": "markdown",
   "metadata": {
    "cell_id": "ccb896ffeb204681a5120f5a2f43e10b",
    "deepnote_cell_height": 128.1875,
    "deepnote_cell_type": "markdown",
    "tags": []
   },
   "source": [
    "The 95th percentile for both tests are:\n",
    "- Ukrainian: **0.0042178**\n",
    "- Russian: **0.09992178**"
   ]
  },
  {
   "cell_type": "markdown",
   "metadata": {
    "cell_id": "cf7d85ccd4314eab8a4ee7f1bca63570",
    "deepnote_cell_height": 262.390625,
    "deepnote_cell_type": "markdown",
    "tags": []
   },
   "source": [
    "##### Community stats\n",
    "\n",
    "**Ukraine:**\n",
    "- 606 communities in total\n",
    "- Size of top 5 communities: [(14, 164), (26, 136), (3, 100), (10, 85), (30, 75)] \n",
    "\n",
    "**Russia:**\n",
    "- 1323 communities in total\n",
    "- Size of top 5 communities: [(120, 291), (28, 290), (4, 228), (6, 225), (24, 194)]"
   ]
  },
  {
   "cell_type": "markdown",
   "metadata": {
    "cell_id": "05e2f4420b43460b81b4ebda54e58a18",
    "deepnote_cell_height": 141.984375,
    "deepnote_cell_type": "markdown",
    "tags": []
   },
   "source": [
    "In both cases the modularities of the configuration models are centered around zero, which correspond to assigning the network to a single community - meaning there are not communities present. Visualizing the modularities and computing the 95th percentile of the modularities allows to clearly conclude that the modularity values of 0.923 and 0.887 for the Ukrainian and Russian network respectively are significantly different from 0. This means that the partitions found by the Python Louvain algorithm are better than assigning no communities at all or assigning each node to its own community."
   ]
  },
  {
   "cell_type": "markdown",
   "metadata": {
    "cell_id": "ad73ced2f33e459db73f0c83cbf79f84",
    "deepnote_cell_height": 299.578125,
    "deepnote_cell_type": "markdown",
    "tags": []
   },
   "source": [
    "In investigating some of these communities, we see for instance in the Ukrainian network that the following three users have the highest in-degrees:\n",
    "\n",
    "- **\"ng_ukraine**: A Ukraine government organization\n",
    "- **\"mil_in_ua\"**: An account posting news about the war with the bio *\"Honest about the army, war and defense since 2009\"*\n",
    "- **\"USEmbassyKyiv\"**: The Twitter account for embassy of the United States of America in Kyiv.\n",
    "\n",
    "Authors with the highest in-degrees in the Russian network:\n",
    "- **\"dw_russian\"**: Twitter account for the German broadcaster channel Deutsche Welle reporthing about Russia and Europe.\n",
    "- **\"RT_russian\"**: This account is actually restricted in response to a legal demand (as of 4/5/22)\n",
    "- **\"i_army_org\"**: A twitter account posting about the war"
   ]
  },
  {
   "cell_type": "markdown",
   "metadata": {
    "cell_id": "0a7ecfeb7166470399eb70f50e89e463",
    "deepnote_cell_height": 164.390625,
    "deepnote_cell_type": "markdown",
    "tags": []
   },
   "source": [
    "When looking at these the visualizations, coloring the nodes based on the community partitions allows us to detect some cluster structures. Some of the bigger cluster structures are results from the neighborhood between the mentioned parent authors above and the users reacting to their tweets. As perhaps expected, most of the clusters come from users retweeting and replying to bigger news stations or organizations in both networks. We do not typically see *private* people engage in discussion of the same size as for the news stations, but as discussed earlier, this is likely becuase of the nature that is tweeting and replying to each other that differs from that trend we see on Reddit."
   ]
  },
  {
   "cell_type": "markdown",
   "metadata": {
    "cell_id": "2ababbce6d1145ab8736a816e92fad34",
    "deepnote_cell_height": 133.1875,
    "deepnote_cell_type": "markdown",
    "tags": []
   },
   "source": [
    "#### Interactive Ukrainian and Russian Twitter Networks\n",
    "For visualization purposes, we also create interactive versions of the Ukrainian and Russian networks, where the reader is able to investigate the communities and read what they are tweeting about. Due to computaional limitations, these networks will be a subset of the original two Twitter networks."
   ]
  },
  {
   "cell_type": "code",
   "execution_count": null,
   "metadata": {
    "cell_id": "85327d8747fb4946b3b48445bd45f0cf",
    "deepnote_cell_height": 174,
    "deepnote_cell_type": "code",
    "tags": []
   },
   "outputs": [],
   "source": [
    "subset_tweets = all_tweets.sample(100000)\n",
    "\n",
    "w_edgelist_ru = create_w_edgelist(subset_tweets, \"ru\")\n",
    "_, I_ru = create_nx_graph(\"ru\",w_edgelist_ru)\n",
    "\n",
    "w_edgelist_uk = create_w_edgelist(subset_tweets, \"uk\")\n",
    "_, I_uk = create_nx_graph(\"uk\",w_edgelist_uk)"
   ]
  },
  {
   "cell_type": "markdown",
   "metadata": {
    "cell_id": "a01ff2eaeace461fbf8ef8c1b0eb3a93",
    "deepnote_cell_height": 277.1875,
    "deepnote_cell_type": "markdown",
    "tags": []
   },
   "source": [
    "**Ukrainian Interactive Network**\n",
    "- Number of nodes: 583\n",
    "- Number of edges: 374\n",
    "- Average degree:   1.2830\n",
    "\n",
    "**Russian Interactive Network** \n",
    "- Number of nodes: 1557\n",
    "- Number of edges: 1030\n",
    "- Average degree:   1.3231 "
   ]
  },
  {
   "cell_type": "code",
   "execution_count": null,
   "metadata": {
    "cell_id": "90ae3b0f8cc2400a8c87549be113d29a",
    "deepnote_cell_height": 84,
    "deepnote_cell_type": "code",
    "tags": []
   },
   "outputs": [],
   "source": [
    "partition_I_ru = community.community_louvain.best_partition(I_ru)\n",
    "partition_I_uk = community.community_louvain.best_partition(I_uk)"
   ]
  },
  {
   "cell_type": "code",
   "execution_count": null,
   "metadata": {
    "cell_id": "954157d0498b4d55b0b4df385e261a75",
    "deepnote_cell_height": 264,
    "deepnote_cell_type": "code",
    "tags": []
   },
   "outputs": [],
   "source": [
    "# get text between a user and its parent author\n",
    "def get_text(username,parent):\n",
    "    return subset_tweets.loc[(subset_tweets[\"username\"]==username)&\n",
    "                         (subset_tweets[\"parent_author\"]==parent)].translated_text.values[0]\n",
    "\n",
    "# weighted edgelist as a dataframe with texts\n",
    "\n",
    "def w_edgelist_df(language, w_edgelist):\n",
    "    w_edgelist_df = w_edgelist.to_frame('size')\n",
    "    w_edgelist_df = w_edgelist_df.reset_index() \n",
    "    w_edgelist_df['text'] = w_edgelist_df[['username','parent_author']].apply(lambda x: get_text(*x), axis=1)\n",
    "    return w_edgelist_df"
   ]
  },
  {
   "cell_type": "code",
   "execution_count": null,
   "metadata": {
    "cell_id": "ba6d9413feb84b9d94cfdfb227402300",
    "deepnote_cell_height": 84,
    "deepnote_cell_type": "code",
    "tags": []
   },
   "outputs": [],
   "source": [
    "w_edgelist_df_ru = w_edgelist_df(\"ru\",w_edgelist_ru)\n",
    "w_edgelist_df_uk = w_edgelist_df(\"uk\",w_edgelist_uk)"
   ]
  },
  {
   "cell_type": "markdown",
   "metadata": {
    "cell_id": "389221d6140b450a882bd704c624ca05",
    "deepnote_cell_height": 74.796875,
    "deepnote_cell_type": "markdown",
    "tags": []
   },
   "source": [
    "We create the interactive graphs using the Pyvis library. Note that parent authors will not have a tweet attached to them, since they can have multiple tweets."
   ]
  },
  {
   "cell_type": "code",
   "execution_count": null,
   "metadata": {
    "cell_id": "3a2a0f43233e4a7793ddb6366c2cf880",
    "deepnote_cell_height": 480,
    "deepnote_cell_type": "code",
    "tags": []
   },
   "outputs": [],
   "source": [
    "def create_interactive_graph(w_edgelist, w_edgelist_df, partition):\n",
    "    #\n",
    "    colors = [\"#{:06x}\".format(random.randint(0, 0xFFFFFF)) for i in range(len(set(partition.values())))]\n",
    "    net = Network(notebook=True)\n",
    "    net.height = '1000px'\n",
    "    net.width = '1000px'\n",
    "\n",
    "    for user in list(w_edgelist_df.username.unique()):\n",
    "        net.add_nodes([user],\n",
    "                         title=[w_edgelist_df.loc[w_edgelist_df[\"username\"]==user].text.values[0]],\n",
    "                        color=[colors[partition[user]] if user in partition.keys() else '#FFFFFF'])\n",
    "\n",
    "    for parent in list(w_edgelist_df.parent_author.unique()):\n",
    "        net.add_nodes([parent],\n",
    "                        color=[colors[partition[parent]] if parent in partition.keys() else '#FFFFFF'])\n",
    "\n",
    "    # when adding users as nodes in the pyvis network, some of the user-strings are altered, \n",
    "    # so we use a try/except statement (only a few nodes are missed)\n",
    "    for index, value in w_edgelist.items():\n",
    "        try:\n",
    "            net.add_edges([(index[0],index[1],value)])\n",
    "        except:\n",
    "            continue\n",
    "    return net"
   ]
  },
  {
   "cell_type": "code",
   "execution_count": null,
   "metadata": {
    "cell_id": "a2b7fbd6bbcc45b1b7e6c4fdc7e4ec78",
    "deepnote_cell_height": 138,
    "deepnote_cell_type": "code",
    "tags": []
   },
   "outputs": [],
   "source": [
    "net_uk = create_interactive_graph(w_edgelist_uk, w_edgelist_df_uk, partition_uk)\n",
    "net_uk.show('uk_final.html')\n",
    "\n",
    "net_ru = create_interactive_graph(w_edgelist_ru, w_edgelist_df_ru, partition_ru)\n",
    "net_ru.show('ru_final.html')"
   ]
  },
  {
   "cell_type": "markdown",
   "metadata": {
    "cell_id": "b947ccce7e894699bc79277368b89e89",
    "deepnote_cell_height": 52.390625,
    "deepnote_cell_type": "markdown",
    "tags": []
   },
   "source": [
    "The interactive networks can be found on our website!"
   ]
  },
  {
   "cell_type": "markdown",
   "metadata": {
    "cell_id": "3b373ed9affc43e18c31767d0cb005c9",
    "deepnote_cell_height": 70,
    "deepnote_cell_type": "markdown",
    "tags": []
   },
   "source": [
    "## Discussion. What worked and what didn't. And why."
   ]
  },
  {
   "cell_type": "markdown",
   "metadata": {
    "cell_id": "f1c080fe98c94be4bb0af4d5114e997c",
    "deepnote_cell_height": 1141.140625,
    "deepnote_cell_type": "markdown",
    "tags": []
   },
   "source": [
    "#### Reduction and incompleteness of the dataset\n",
    "\n",
    "One of the most important limitations to address in this project is the size and \"incompletenes\" of our dataset. The original dataset consisted of more than 3 million data points which is an extensively large amount of data. However, it will still lack some tweets addressing the Russia-Ukraine war, if they do not contain the specified key words in the data collection query. Moreover we reduced the dataset further, when we subsampled 18.000 tweets per day due to computational limits, yielding an even bigger loss of tweets discussing the subject. We intended to use our final dataset of 1 million tweets for all analysis purposes. However, in practice this became infeasible due to time and computational limits, and therefore  we ended up using an even smaller part of the dataset for some parts of our analysis. This reduction of our dataset is important to keep in mind when making any conclusions on the basis of this data, as it can only serve as a representative of the true trends and conclusions. However, we argue that the data partitions used for all parts of the analysis is still a representative cross section of the complete debate on Twitter and the trends associated with it, as we subsampled our data uniformly across all dates and randomly within each day. \n",
    "\n",
    "#### Lack of location data\n",
    "At first hand our plan was to use the (geo-)location data associated with each tweet to seperate networks and parts of the text analyses on nationality. Anyhow, during the time of the project work we realised that most Twitter users do not allow tracking of geo-location and the location data provided by the users themselves were filled with bugs and unusable information. As a workaround we therefore used the written language of the tweet instead. This can still give some indications of trends within nationalities although the analyses was now limited to the tweets written by people who expressed themselves in their mother language. Moreover, the English written language is used by the majority of users across all nationalities which makes the distribution of tweets for each language significantly skewed. Still we found it interesting to investigate the trends within Ukrainian and Russian as well as the general public using English, and we concluded that it was still somehow representative of the subsequent nationalities because of the great amount of data.\n",
    "\n",
    "#### Skewed distribution of tweet\n",
    "Looking at the tweet volume volatility for the languages English, Russian and Ukranian, we found that there were significantly more English tweets compared to the others. This is important to be aware of when we conclude anything within the time domain, as the English written tweets will dominate the tendencies significantly. In other words when drawing any conclusions about the overall tendencies based on time, it will be much more representative for the English speaking \"community\" on Twitter than any other. However, as this also indicates that the majority of Twitter users communicate on English, we can argue that the time analysis and conclusions are still representative of the majority of Twitter users i.e. the overall public opinions and trends. This bias is removed in the language analysis, as we filter the tweets on language and only consider tweets within one written language at a time.\n",
    "\n",
    "#### No significant results in dispersion plot\n",
    "Our initial intention with the dispersion plot was to show some kind of development in the usage of certain words over time. However, as we had to specify the words displayed in the plot manually, the process became somewhat trial-and-error based. We expected that using the most frequently used/general key words in the debate would not give any significant results, as these words are used continously in time. Therefore we experimented with more specific words representing certain events such as \"nuclear war\" and \"chernobyl\" and expected to see a higher usage of these words around the period in time, where the events took place. Still, this was not the case in practice and therefore the dispersion plot was rather uninformative in the end. \n",
    "\n",
    "#### Keywords introduce bias\n",
    "One rather important bias in our analysis and dataset is the use of keywords in the data collection. As the tweets were queried based on these specific key words, the volume of tweets containing these words will also unnaturally high. This is an important flaw in our analysis when investigating any kind of trends based on frequency, as many of the key words will logically appear as very popular. Examples of analysis where this bias is significant are the bar chart of most popular hashtags or the word shift plots. A work-around could have been to remove all key words from our dataset but this might have resulted in other important tendencies getting lost instead. "
   ]
  },
  {
   "cell_type": "markdown",
   "metadata": {
    "cell_id": "a3237b535bda4ec18319d86c132f33a8",
    "deepnote_cell_height": 348.78125,
    "deepnote_cell_type": "markdown",
    "owner_user_id": "fd5d0a61-c21d-426e-b7d4-f22625dd1a81",
    "tags": []
   },
   "source": [
    "#### Building the Twitter networks\n",
    "As mentioned when building the Twitter Networks, one limitation of our data set is that the tweets we fetch must contain the keywords \"russia, ukraine, putin, zelensky\" etc. - this means we are not able to follow an entire Twitter thread if the replies to the original tweet does not contain any of these keywords. For our networks this limitation means we will almost never see triadic closures between the parent author and the users who reply to their tweet. Even if we wanted to fecth all replies like we did with the \"search_comments\" function from the Reddit API, we would need access to a Premium Account on Twiiter API. However, we argue that even if we had all replies, the nature of how twitter users behave is still represented in our networks - users do not often gather in the same thread and stay for long enough to reply to each other, but rather scatter throughout the conversation, almost in an exponential manner as mentioned earlier. \n",
    "\n",
    "Furthermore, one could expand these networks so they are not based on the interaction between users and parent authors of a particular language, but rather on how users gather in groups discussing certain topics that might arise in this difficult subject matter. This would require a form of NLP-based sentiment analysis on top of the network analysis, which could prove itself to be difficult to carry out, but also very interesting to investigate. "
   ]
  }
 ],
 "metadata": {
  "deepnote": {},
  "deepnote_execution_queue": [],
  "deepnote_notebook_id": "5c4e4605-7e75-4a37-b735-d144d2c080f4",
  "kernelspec": {
   "display_name": "Python 3",
   "language": "python",
   "name": "python3"
  },
  "language_info": {
   "codemirror_mode": {
    "name": "ipython",
    "version": 3
   },
   "file_extension": ".py",
   "mimetype": "text/x-python",
   "name": "python",
   "nbconvert_exporter": "python",
   "pygments_lexer": "ipython3",
   "version": "3.8.6"
  }
 },
 "nbformat": 4,
 "nbformat_minor": 2
}
